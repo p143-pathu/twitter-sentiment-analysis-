{
 "cells": [
  {
   "cell_type": "markdown",
   "metadata": {},
   "source": [
    "# Importing Libraries"
   ]
  },
  {
   "cell_type": "code",
   "execution_count": 71,
   "metadata": {},
   "outputs": [],
   "source": [
    "import numpy as numpy\n",
    "import pandas as pd"
   ]
  },
  {
   "cell_type": "markdown",
   "metadata": {},
   "source": [
    "To visualize the data in the project"
   ]
  },
  {
   "cell_type": "code",
   "execution_count": 72,
   "metadata": {},
   "outputs": [],
   "source": [
    "import matplotlib\n",
    "import matplotlib.pyplot as plt\n",
    "%matplotlib inline\n",
    "import seaborn as sns"
   ]
  },
  {
   "cell_type": "code",
   "execution_count": 73,
   "metadata": {},
   "outputs": [],
   "source": [
    "import sklearn\n",
    "from sklearn.utils import shuffle \n",
    "from sklearn.feature_extraction.text import TfidfVectorizer"
   ]
  },
  {
   "cell_type": "markdown",
   "metadata": {},
   "source": [
    "NLP Preprocessing libraries"
   ]
  },
  {
   "cell_type": "code",
   "execution_count": 74,
   "metadata": {},
   "outputs": [],
   "source": [
    "import nltk\n",
    "from nltk.corpus import stopwords\n",
    "from nltk.tokenize import word_tokenize"
   ]
  },
  {
   "cell_type": "code",
   "execution_count": 75,
   "metadata": {},
   "outputs": [
    {
     "name": "stdout",
     "output_type": "stream",
     "text": [
      "Requirement already up-to-date: gensim in d:\\users\\user\\anaconda3\\lib\\site-packages (3.8.3)\n",
      "Requirement already satisfied, skipping upgrade: Cython==0.29.14 in d:\\users\\user\\anaconda3\\lib\\site-packages (from gensim) (0.29.14)\n",
      "Requirement already satisfied, skipping upgrade: six>=1.5.0 in d:\\users\\user\\anaconda3\\lib\\site-packages (from gensim) (1.14.0)\n",
      "Requirement already satisfied, skipping upgrade: scipy>=0.18.1 in d:\\users\\user\\anaconda3\\lib\\site-packages (from gensim) (1.4.1)\n",
      "Requirement already satisfied, skipping upgrade: numpy>=1.11.3 in d:\\users\\user\\anaconda3\\lib\\site-packages (from gensim) (1.18.1)\n",
      "Requirement already satisfied, skipping upgrade: smart-open>=1.8.1 in d:\\users\\user\\anaconda3\\lib\\site-packages (from gensim) (2.0.0)\n",
      "Requirement already satisfied, skipping upgrade: boto in d:\\users\\user\\anaconda3\\lib\\site-packages (from smart-open>=1.8.1->gensim) (2.49.0)\n",
      "Requirement already satisfied, skipping upgrade: boto3 in d:\\users\\user\\anaconda3\\lib\\site-packages (from smart-open>=1.8.1->gensim) (1.13.24)\n",
      "Requirement already satisfied, skipping upgrade: requests in d:\\users\\user\\anaconda3\\lib\\site-packages (from smart-open>=1.8.1->gensim) (2.22.0)\n",
      "Requirement already satisfied, skipping upgrade: jmespath<1.0.0,>=0.7.1 in d:\\users\\user\\anaconda3\\lib\\site-packages (from boto3->smart-open>=1.8.1->gensim) (0.10.0)\n",
      "Requirement already satisfied, skipping upgrade: botocore<1.17.0,>=1.16.24 in d:\\users\\user\\anaconda3\\lib\\site-packages (from boto3->smart-open>=1.8.1->gensim) (1.16.24)\n",
      "Requirement already satisfied, skipping upgrade: s3transfer<0.4.0,>=0.3.0 in d:\\users\\user\\anaconda3\\lib\\site-packages (from boto3->smart-open>=1.8.1->gensim) (0.3.3)\n",
      "Requirement already satisfied, skipping upgrade: idna<2.9,>=2.5 in d:\\users\\user\\anaconda3\\lib\\site-packages (from requests->smart-open>=1.8.1->gensim) (2.8)\n",
      "Requirement already satisfied, skipping upgrade: urllib3!=1.25.0,!=1.25.1,<1.26,>=1.21.1 in d:\\users\\user\\anaconda3\\lib\\site-packages (from requests->smart-open>=1.8.1->gensim) (1.25.8)\n",
      "Requirement already satisfied, skipping upgrade: certifi>=2017.4.17 in d:\\users\\user\\anaconda3\\lib\\site-packages (from requests->smart-open>=1.8.1->gensim) (2019.11.28)\n",
      "Requirement already satisfied, skipping upgrade: chardet<3.1.0,>=3.0.2 in d:\\users\\user\\anaconda3\\lib\\site-packages (from requests->smart-open>=1.8.1->gensim) (3.0.4)\n",
      "Requirement already satisfied, skipping upgrade: python-dateutil<3.0.0,>=2.1 in d:\\users\\user\\anaconda3\\lib\\site-packages (from botocore<1.17.0,>=1.16.24->boto3->smart-open>=1.8.1->gensim) (2.8.1)\n",
      "Requirement already satisfied, skipping upgrade: docutils<0.16,>=0.10 in d:\\users\\user\\anaconda3\\lib\\site-packages (from botocore<1.17.0,>=1.16.24->boto3->smart-open>=1.8.1->gensim) (0.15.2)\n"
     ]
    }
   ],
   "source": [
    "!pip install -U gensim\n",
    "import re\n",
    "import random\n",
    "import gensim"
   ]
  },
  {
   "cell_type": "code",
   "execution_count": 76,
   "metadata": {},
   "outputs": [],
   "source": [
    "from collections import Counter\n",
    "import unicodedata as udata\n",
    "import string"
   ]
  },
  {
   "cell_type": "markdown",
   "metadata": {},
   "source": [
    "checking the versions "
   ]
  },
  {
   "cell_type": "code",
   "execution_count": 77,
   "metadata": {},
   "outputs": [
    {
     "name": "stdout",
     "output_type": "stream",
     "text": [
      "0.22.1\n",
      "3.1.3\n",
      "1.18.1\n",
      "1.0.1\n",
      "3.4.5\n"
     ]
    }
   ],
   "source": [
    "print(sklearn.__version__)\n",
    "print(matplotlib.__version__)\n",
    "print(numpy.__version__)\n",
    "print(pd.__version__)\n",
    "print(nltk.__version__)"
   ]
  },
  {
   "cell_type": "markdown",
   "metadata": {},
   "source": [
    "# Reading csv file"
   ]
  },
  {
   "cell_type": "code",
   "execution_count": 78,
   "metadata": {},
   "outputs": [
    {
     "data": {
      "text/html": [
       "<div>\n",
       "<style scoped>\n",
       "    .dataframe tbody tr th:only-of-type {\n",
       "        vertical-align: middle;\n",
       "    }\n",
       "\n",
       "    .dataframe tbody tr th {\n",
       "        vertical-align: top;\n",
       "    }\n",
       "\n",
       "    .dataframe thead th {\n",
       "        text-align: right;\n",
       "    }\n",
       "</style>\n",
       "<table border=\"1\" class=\"dataframe\">\n",
       "  <thead>\n",
       "    <tr style=\"text-align: right;\">\n",
       "      <th></th>\n",
       "      <th>0</th>\n",
       "      <th>1</th>\n",
       "      <th>2</th>\n",
       "      <th>3</th>\n",
       "      <th>4</th>\n",
       "      <th>5</th>\n",
       "    </tr>\n",
       "  </thead>\n",
       "  <tbody>\n",
       "    <tr>\n",
       "      <th>0</th>\n",
       "      <td>0</td>\n",
       "      <td>1467810369</td>\n",
       "      <td>Mon Apr 06 22:19:45 PDT 2009</td>\n",
       "      <td>NO_QUERY</td>\n",
       "      <td>_TheSpecialOne_</td>\n",
       "      <td>@switchfoot http://twitpic.com/2y1zl - Awww, t...</td>\n",
       "    </tr>\n",
       "    <tr>\n",
       "      <th>1</th>\n",
       "      <td>0</td>\n",
       "      <td>1467810672</td>\n",
       "      <td>Mon Apr 06 22:19:49 PDT 2009</td>\n",
       "      <td>NO_QUERY</td>\n",
       "      <td>scotthamilton</td>\n",
       "      <td>is upset that he can't update his Facebook by ...</td>\n",
       "    </tr>\n",
       "    <tr>\n",
       "      <th>2</th>\n",
       "      <td>0</td>\n",
       "      <td>1467810917</td>\n",
       "      <td>Mon Apr 06 22:19:53 PDT 2009</td>\n",
       "      <td>NO_QUERY</td>\n",
       "      <td>mattycus</td>\n",
       "      <td>@Kenichan I dived many times for the ball. Man...</td>\n",
       "    </tr>\n",
       "    <tr>\n",
       "      <th>3</th>\n",
       "      <td>0</td>\n",
       "      <td>1467811184</td>\n",
       "      <td>Mon Apr 06 22:19:57 PDT 2009</td>\n",
       "      <td>NO_QUERY</td>\n",
       "      <td>ElleCTF</td>\n",
       "      <td>my whole body feels itchy and like its on fire</td>\n",
       "    </tr>\n",
       "    <tr>\n",
       "      <th>4</th>\n",
       "      <td>0</td>\n",
       "      <td>1467811193</td>\n",
       "      <td>Mon Apr 06 22:19:57 PDT 2009</td>\n",
       "      <td>NO_QUERY</td>\n",
       "      <td>Karoli</td>\n",
       "      <td>@nationwideclass no, it's not behaving at all....</td>\n",
       "    </tr>\n",
       "  </tbody>\n",
       "</table>\n",
       "</div>"
      ],
      "text/plain": [
       "   0           1                             2         3                4  \\\n",
       "0  0  1467810369  Mon Apr 06 22:19:45 PDT 2009  NO_QUERY  _TheSpecialOne_   \n",
       "1  0  1467810672  Mon Apr 06 22:19:49 PDT 2009  NO_QUERY    scotthamilton   \n",
       "2  0  1467810917  Mon Apr 06 22:19:53 PDT 2009  NO_QUERY         mattycus   \n",
       "3  0  1467811184  Mon Apr 06 22:19:57 PDT 2009  NO_QUERY          ElleCTF   \n",
       "4  0  1467811193  Mon Apr 06 22:19:57 PDT 2009  NO_QUERY           Karoli   \n",
       "\n",
       "                                                   5  \n",
       "0  @switchfoot http://twitpic.com/2y1zl - Awww, t...  \n",
       "1  is upset that he can't update his Facebook by ...  \n",
       "2  @Kenichan I dived many times for the ball. Man...  \n",
       "3    my whole body feels itchy and like its on fire   \n",
       "4  @nationwideclass no, it's not behaving at all....  "
      ]
     },
     "execution_count": 78,
     "metadata": {},
     "output_type": "execute_result"
    }
   ],
   "source": [
    "path=r\"C:\\Users\\user\\Downloads\\\\TwitterSentimentAnalysis.csv\"\n",
    "df = pd.read_csv(path, encoding='latin-1', header=None)\n",
    "df.head()"
   ]
  },
  {
   "cell_type": "markdown",
   "metadata": {},
   "source": [
    "Shuffling the data in the data frame"
   ]
  },
  {
   "cell_type": "code",
   "execution_count": 79,
   "metadata": {},
   "outputs": [],
   "source": [
    "df = df.sample(frac=1).reset_index(drop=True)"
   ]
  },
  {
   "cell_type": "markdown",
   "metadata": {},
   "source": [
    "# Give column names"
   ]
  },
  {
   "cell_type": "markdown",
   "metadata": {},
   "source": [
    "Assigning the Columns name to the data"
   ]
  },
  {
   "cell_type": "code",
   "execution_count": 80,
   "metadata": {},
   "outputs": [],
   "source": [
    "df.columns = [\"sentiment\", \"id\", \"date\", \"query\", \"user\", \"text\"] "
   ]
  },
  {
   "cell_type": "code",
   "execution_count": 81,
   "metadata": {},
   "outputs": [
    {
     "data": {
      "text/plain": [
       "Index(['sentiment', 'id', 'date', 'query', 'user', 'text'], dtype='object')"
      ]
     },
     "execution_count": 81,
     "metadata": {},
     "output_type": "execute_result"
    }
   ],
   "source": [
    "df.columns"
   ]
  },
  {
   "cell_type": "markdown",
   "metadata": {},
   "source": [
    "Checking Null values in the dataset. Here we are counting each cloumn null values in the data set"
   ]
  },
  {
   "cell_type": "code",
   "execution_count": 82,
   "metadata": {},
   "outputs": [
    {
     "data": {
      "text/plain": [
       "sentiment    0\n",
       "id           0\n",
       "date         0\n",
       "query        0\n",
       "user         0\n",
       "text         0\n",
       "dtype: int64"
      ]
     },
     "execution_count": 82,
     "metadata": {},
     "output_type": "execute_result"
    }
   ],
   "source": [
    "df.isnull().sum()"
   ]
  },
  {
   "cell_type": "markdown",
   "metadata": {},
   "source": [
    "Checking the duplicates values and counting duplicates in the data set"
   ]
  },
  {
   "cell_type": "code",
   "execution_count": 83,
   "metadata": {},
   "outputs": [
    {
     "data": {
      "text/plain": [
       "0"
      ]
     },
     "execution_count": 83,
     "metadata": {},
     "output_type": "execute_result"
    }
   ],
   "source": [
    "df.duplicated().sum()"
   ]
  },
  {
   "cell_type": "markdown",
   "metadata": {},
   "source": [
    "get the first 5 rows from the dataframe"
   ]
  },
  {
   "cell_type": "code",
   "execution_count": 84,
   "metadata": {},
   "outputs": [
    {
     "data": {
      "text/html": [
       "<div>\n",
       "<style scoped>\n",
       "    .dataframe tbody tr th:only-of-type {\n",
       "        vertical-align: middle;\n",
       "    }\n",
       "\n",
       "    .dataframe tbody tr th {\n",
       "        vertical-align: top;\n",
       "    }\n",
       "\n",
       "    .dataframe thead th {\n",
       "        text-align: right;\n",
       "    }\n",
       "</style>\n",
       "<table border=\"1\" class=\"dataframe\">\n",
       "  <thead>\n",
       "    <tr style=\"text-align: right;\">\n",
       "      <th></th>\n",
       "      <th>sentiment</th>\n",
       "      <th>id</th>\n",
       "      <th>date</th>\n",
       "      <th>query</th>\n",
       "      <th>user</th>\n",
       "      <th>text</th>\n",
       "    </tr>\n",
       "  </thead>\n",
       "  <tbody>\n",
       "    <tr>\n",
       "      <th>0</th>\n",
       "      <td>4</td>\n",
       "      <td>1974926444</td>\n",
       "      <td>Sat May 30 14:05:29 PDT 2009</td>\n",
       "      <td>NO_QUERY</td>\n",
       "      <td>paulyd</td>\n",
       "      <td>Loving the Fox's biscuits panda ad. &amp;quot;... ...</td>\n",
       "    </tr>\n",
       "    <tr>\n",
       "      <th>1</th>\n",
       "      <td>0</td>\n",
       "      <td>2255629480</td>\n",
       "      <td>Sat Jun 20 11:33:01 PDT 2009</td>\n",
       "      <td>NO_QUERY</td>\n",
       "      <td>radiationhater2</td>\n",
       "      <td>Cleaning my room...soooo much junk</td>\n",
       "    </tr>\n",
       "    <tr>\n",
       "      <th>2</th>\n",
       "      <td>0</td>\n",
       "      <td>1990596899</td>\n",
       "      <td>Mon Jun 01 05:16:57 PDT 2009</td>\n",
       "      <td>NO_QUERY</td>\n",
       "      <td>beatrice21</td>\n",
       "      <td>up at 430 to open the coffee bar  got told my ...</td>\n",
       "    </tr>\n",
       "    <tr>\n",
       "      <th>3</th>\n",
       "      <td>0</td>\n",
       "      <td>1760038814</td>\n",
       "      <td>Sun May 10 20:31:21 PDT 2009</td>\n",
       "      <td>NO_QUERY</td>\n",
       "      <td>danjiefang</td>\n",
       "      <td>Is gonna miss home</td>\n",
       "    </tr>\n",
       "    <tr>\n",
       "      <th>4</th>\n",
       "      <td>4</td>\n",
       "      <td>1932276462</td>\n",
       "      <td>Tue May 26 21:09:15 PDT 2009</td>\n",
       "      <td>NO_QUERY</td>\n",
       "      <td>cornbread1311</td>\n",
       "      <td>I have an awesome girlfriend. Can't wait to se...</td>\n",
       "    </tr>\n",
       "  </tbody>\n",
       "</table>\n",
       "</div>"
      ],
      "text/plain": [
       "   sentiment          id                          date     query  \\\n",
       "0          4  1974926444  Sat May 30 14:05:29 PDT 2009  NO_QUERY   \n",
       "1          0  2255629480  Sat Jun 20 11:33:01 PDT 2009  NO_QUERY   \n",
       "2          0  1990596899  Mon Jun 01 05:16:57 PDT 2009  NO_QUERY   \n",
       "3          0  1760038814  Sun May 10 20:31:21 PDT 2009  NO_QUERY   \n",
       "4          4  1932276462  Tue May 26 21:09:15 PDT 2009  NO_QUERY   \n",
       "\n",
       "              user                                               text  \n",
       "0           paulyd  Loving the Fox's biscuits panda ad. &quot;... ...  \n",
       "1  radiationhater2                Cleaning my room...soooo much junk   \n",
       "2       beatrice21  up at 430 to open the coffee bar  got told my ...  \n",
       "3       danjiefang                                Is gonna miss home   \n",
       "4    cornbread1311  I have an awesome girlfriend. Can't wait to se...  "
      ]
     },
     "execution_count": 84,
     "metadata": {},
     "output_type": "execute_result"
    }
   ],
   "source": [
    "df.head(5)"
   ]
  },
  {
   "cell_type": "markdown",
   "metadata": {},
   "source": [
    "drop some column from the dataframe "
   ]
  },
  {
   "cell_type": "code",
   "execution_count": 85,
   "metadata": {},
   "outputs": [],
   "source": [
    "df = df.drop([\"id\", \"date\", \"query\", \"user\"], axis = 1) "
   ]
  },
  {
   "cell_type": "code",
   "execution_count": 103,
   "metadata": {},
   "outputs": [
    {
     "data": {
      "text/plain": [
       "',sentiment,text,pre_clean_len\\r\\n0,4,Loving the Fox\\'s biscuits panda ad. &quot;... Bisquits&quot;! Just makes me laugh. ,83\\r\\n1,0,Cleaning my room...soooo much junk ,35\\r\\n2,0,up at 430 to open the coffee bar  got told my septum looks good...? hah today is a studymyassoff day! ffuucckk,110\\r\\n3,0,Is gonna miss home ,19\\r\\n4,4,I have an awesome girlfriend. Can\\'t wait to see her tomorrow ,61\\r\\n5,0,@mfvaldez SHUT UP!! is it really lost?? u kno thats always been my fear of traveling..i hope u get it ,102\\r\\n6,4,miley wonn!!!! so did twilight! soo fricken exited ,51\\r\\n7,4,@darrenporter Ah yeah we\\'ve got a gizmo and it works a treat! Great for speeding past those bank-holiday queues at the peage ,125\\r\\n8,0,\"Herpes be gone! Bet quote of the night, &quot;Unlike Love, Herpes is Forever&quot; on queue: Viruses and Cancer. This is normal saturday = study \",145\\r\\n9,0,I want to see Mcfly tonight but my sister is ill and doesnt think she can go anymore I dont want to go on my own ,113\\r\\n10,0,OMFG!!!!!! thought they would kiss  ,36\\r\\n11,0,Where is my wife!? ,19\\r\\n12,4,\"@John_Lamb That\\'s ok, because you\\'ll have a 5 hour flight to sleep. \",68\\r\\n13,4,I never realised how cute Zack Addy is until I watched Bones ,61\\r\\n14,4,\"haha my dad just discovered youtube, it\\'s quite funny; today was fun w/ kirsten &amp; savannah \",95\\r\\n15,0,@erin82883 oh. i didn\\'t know that! well yay! tmw is too far away. ,66\\r\\n16,4,you guys are weird   im the only cool one here,46\\r\\n17,4,@kitwitch Thanks Kit witch  waving to KY fr Malibu,50\\r\\n18,4,Going to Bed now Good Night and be the #AionBeta with you ,58\\r\\n19,0,@jarmon I\\'m SO TERRIFIED of doing that.  ,41\\r\\n20,0,@vgriggs crawfish. ,19\\r\\n21,0,dammit i h8 bein the only 1 that lurves d/w ,44\\r\\n22,4,\"I didn\\'t bang him guys! We cuddled, talked and watched a movie. Butterflies. So cute. Hbdvdvhjd  ohhh my gawwwd I can\\'t stop smiling.\",133\\r\\n23,0,Hopefully the day will go by fast! Other than that I just wish I was in the Bahamas with my babe!   Friday hurry up &amp; be here aleady!!!,139\\r\\n24,4,@STARBUCKLY How about beaming-back 2 Twitterverse = ((vvvffft)) &amp; beaming-out if Twtr = ))vvvffft(( &lt;-- notice parenthesis ,130\\r\\n25,4,Settling into my home for the next few months ,46\\r\\n26,0,I don\\'t want to go to summer class today ,41\\r\\n27,0,Cheer up girls.. ,17\\r\\n28,4,\"Moving, lunch the maybe movies might hang with Whitney tonight Bestfriend \",74\\r\\n29,4,\"66, the number of the beast, 29A, the hexadecimal of the Beast. \",64\\r\\n30,4,\"Maybe I need to try online dating  Me: Crazy cat lady, vegan, drinks too much and is about 20 lbs. overweight. You: Able to put up with me\",138\\r\\n31,4,@blurtit wow thanks! You\\'re like the oracle! ,45\\r\\n32,0,@Wossy been attacked by the hay as well today ,46\\r\\n33,0,Terrible result in this morning\\'s tournament. Oh well...can\\'t win \\'em all. Sometimes you can\\'t even take 2nd or 3rd ,116\\r\\n34,0,\"Forgot to watch the best of Amy Poehler on SNL  Cry me a river?...No, really, DO IT! cry!\",89\\r\\n35,0,Homeless ,9\\r\\n36,0,REAL MEN make phone calls not send texts. Start sending guestlists MAGEC!! Can\\'t nap ,85\\r\\n37,0,is trying to find sum friends...lol...only hav 1 ,49\\r\\n38,4,is now the proud new leaser of a Thoroughbred/Percheron gelding named Socrates  Finally back in the riding game!,112\\r\\n39,0,@Keryje its so much better being in work ,41\\r\\n40,4,\"@jennisimmons yes, 815 are fine, especially if it\\'s for web \",60\\r\\n41,4,\"@charityhuerta Going mobile w/Twitter is exciting, right?! I was pumped when I did, too \",88\\r\\n42,0,Dont ya hate it when you\\'re ready for bed... then you realise you dont have sheets on the bed ,94\\r\\n43,0,@VeronicaATL haha wow me neither!! too bad i dont have the guy i likes number. dont want it though cause if i didnt write back id be so ,136\\r\\n44,0,@CherylHarrison Not a hater... you said it wasn\\'t working.  ,60\\r\\n45,0,Working out. Ah so sore ,24\\r\\n46,4,\"@wicklekell we play spurs I think next week maybe that\\'s why he rested them, I know we play city too in a few weeks \",116\\r\\n47,0,@travisricejr Because the ferry that was supposed to take us out changed their schedule. So now I have to fly out on June 30 on a red eye ,138\\r\\n48,4,\"styling hunting today in Brick Lane and West End later on today, and I need to get a Canon 50mm f/1.8 lens at Jacobs \",117\\r\\n49,4,@Hiphopgirl  The mall is always a fun place!  Enjoy. ,53\\r\\n50,0,@KatBautista whatta bout brother? ,34\\r\\n51,4,BBQ at ashley\\'s ,16\\r\\n52,0,\"Oh, and clothes are expensive in Oz too.  You pay 30USD for a T-Shirt that costs 90AUD here.  \",94\\r\\n53,0,\"Looking for Chad Franscoviak\\'s contact info. Had it, lost it.  Boo.\",67\\r\\n54,4,dancing around my room listening to obstacle 1 by interpol. good stuff. ,72\\r\\n55,0,@piratesswoop oh okay i see it now  wtf,39\\r\\n56,4,@sharybobbins i had to explain to mr_schnitzel who Benita the Egg Beater is ,76\\r\\n57,0,\"@2SHAE1 l0l yu right...I do love him!! Well yur lucky yur on the phone with yurs, I wanna be with mine right about now  \",120\\r\\n58,0,i have an exam if i fail i am out of accy ,42\\r\\n59,0,@clubalektrablue aww you didn\\'t have a good time? ,50\\r\\n60,0,is hoping dax is going to be ok ,32\\r\\n61,0,packing ,8\\r\\n62,0,I need to grow my penis out ,28\\r\\n63,0,@mikeisneat I do! I do! ,24\\r\\n64,4,watching the French Open...what else? ,38\\r\\n65,0,Only if u wanna laff.....at me ,31\\r\\n66,4,@LaurenMabbett I am definitley guilty of an addiction to that game. Look me up on facebook and we can compete. Alex Edinger in Oregon ,134\\r\\n67,0,@pf_c yuck on worrying the whole weekend  i\\'m sure everything will be fine once you\\'re able to talk to someone.,111\\r\\n68,4,\"Sick, can\\'t move any more  // I hope to make some new friends &amp; share what we like.. \",89\\r\\n69,0,Hello @MaschaD @EmmaKate76 What r u gals up 2?Just saw what went down OMJ!Did he really tell people FU? Wow he must have been pissed. ,134\\r\\n70,4,Happy birthday Jenn! We\\'re glad to be part of your bday celebration with you&amp; your friends at Thai Thais! ,110\\r\\n71,0,@Miss_Bea_Latham is it still sunny in sheffield? Its not in chesterfield! ,74\\r\\n72,0,\"Aww, not coming until Winter 2009 \",34\\r\\n73,4,\"Foreverfriday nudged me  theyre a cool band, so i updated. Thats the first time ive been nudged. haha\",101\\r\\n74,4,\"@Raul_Ramos I haven\\'t met him, but would love to. Thanks for the link to  http://raulramosysanchez.blogspot.com/ I\\'ve been reading it \",134\\r\\n75,4,@Nicholarse I fear Absolute Radio is quickly becoming the new Kerrang!.. I can Imagine you doing a night show there.. ,118\\r\\n76,4,Rt @MelodyDTF:FOLLOW @MELODYDTF JUST BECAUSE I AM SO COOL &amp; I AM ON DTFRADIO.COM ,85\\r\\n77,4,@thekatvond You should follow @FrankIero ,41\\r\\n78,0,\"This XM5800 earphone is a piece of cr*. But not the sound: it is impossible to keep it in your ears, too short, too heavy, too small. \",134\\r\\n79,4,I love playing tennis with my fam and Patchy.  hilarious. My mom kicks ass!!,76\\r\\n80,4,FiNaLLy CoMpuTeR Iz SeT Up ,27\\r\\n81,0,\"@DivaJulia - Yeah, stick to the book with &quot;Gomorra.&quot;  It\\'s not even on my DVD rental list anymore. Sorry to say, it\\'s a total bummer. \",144\\r\\n82,0,@haushi87 me too ,17\\r\\n83,4,\"@ReikoEoh  When you fall asleep at your kybrd, just don\\'t hit the repeat key! \",78\\r\\n84,4,heyyyyy trent ,14\\r\\n85,4,im happy becouse now i m a Twitter-er! ,39\\r\\n86,4,is eating cherryss ,19\\r\\n87,0,WHAT DO YOU GET THE BEST TEACHER ADVISER IN THE WORLD FOR A RETIREMENT PRESENT?!!?!?! ,86\\r\\n88,0,@SJRestaurant It\\'s Portugese I think. I had a sandwich from there once - it was rubbish. Just plain grilled chicken + limp iceberg ,131\\r\\n89,0,\"MARGRET!!  That woman made the show for me, omg!! &lt;3 #Apprentice\",67\\r\\n90,4,- At a cabaret with my family; I love them!! .. In my comfort zone ,67\\r\\n91,0,I\\'ve come to realize that noone ever talks to me on this thing. and thats really sad  *tear*,92\\r\\n92,4,\"... @djoneman, @djtayo, @russtannen, leila (warp), the clarky cat guys &amp; everyone else who came / played \",109\\r\\n93,4,@piinkiitahw I Love U!!!!!!! I miss when we talk w/ Facebook!!! ,64\\r\\n94,0,#Air France ... so tragic ,26\\r\\n95,0,&quot;I think [I\\'m] headed for a big fall I think [I\\'m] headed for a bad time&quot; 23rd-day in a row of work. ,111\\r\\n96,4,@Sion71 lol okay will send u a pic shortly...gawd wish id cut the grass this morning now!!!lol  ,96\\r\\n97,0,is about to go to school ,25\\r\\n98,4,@KCL1976 Good morning ,22\\r\\n99,0,\"wishes i did my s.s. earlier.. now i have to do it tmr  i will @ night when im bored, lol it will get done sometime..\",117\\r\\n100,0,OMGGGGGGGGGGG !!!! i think someone has HACKED into my TWITTER  how so ????? no one has my password...SmH this is insane,119\\r\\n101,0,\"dangit, i try not to care, but my technocrati score went down 7 points in the past week, how? \",94\\r\\n102,0,@ChooseJuicyx2ii what dayyyyyy !? ima try and come back before u gooo  ur going foreverrr ? yea i ammm,102\\r\\n103,4,It\\'s ice cream time  Love spring,32\\r\\n104,0,\"iPhone 3.0... bluetooth, but no tether \",39\\r\\n105,0,@paulywog is in md til Wednesday  and I don\\'t feel good  I\\'m whiney today!,74\\r\\n106,0,@thetricktolife ha...i\\'m listening now ,39\\r\\n107,0,is not feeling well now.. ,26\\r\\n108,4,\"One more week till my birthday ... candles, cakes, presents \",60\\r\\n109,0,I hate windows SW. Modal windows appearing off screen making me think the app is hung... ,89\\r\\n110,4,done doing my assignments for tomorrow!.heh  need to rest now.. ciao!     ~~no boundaries~~,91\\r\\n111,4,@fukurtweet it\\'s on again at 6.30 then on CBS at 7.30 ,54\\r\\n112,4,@cathy_cochina40 hectic  good to see the cochina\\'s with cochino! hopefully I\\'ll get to meet him when I go to their concert.,123\\r\\n113,4,@juhalindfors heey - i\\'m not the one using Apple\\'s dev environment  I can imagine how limited it is to make sure stuff works...,127\\r\\n114,4,@TheseStarkWords sweeet! ,25\\r\\n115,0,i got stuck on the Sudoku in the paper .. ,42\\r\\n116,0,\"@vimoh @subatomic I guess truce is more important. Want corrupt people to be kept out, but keeping them in check is the next best \",130\\r\\n117,4,\"@hakerem Yea, I only use Chrome \",32\\r\\n118,0,has a feeling that she\\'s going to fail her accounting tomorrow. Goodbye $3000 ,78\\r\\n119,0,\"my buttoxxxxxx hurts  no bueno, no bueno indeed.\",48\\r\\n120,4,@FrankieTheSats how do you do a tv? ,36\\r\\n121,0,Twit break I\\'m tired stressed and agitated and hungry ,54\\r\\n122,0,\"@bunnyeatsyou ikr?? *_* i think they\\'re in japan right now, not the US \",71\\r\\n123,0, hate my liiiiiiiife,20\\r\\n124,4,doing laundry &amp; watching the satc movie ,44\\r\\n125,0,laying down..sick ,18\\r\\n126,0,going to miss Kat (@angelpiekitkat) at summer school tomorrow  but at least i\\'ll still talk to you and see you thrusday!!!,122\\r\\n127,4,@akaishayes Hope that you\\'re having fun with your sister &amp; that she\\'s feeling better ,89\\r\\n128,0,at my brothers grave.. ,23\\r\\n129,4,\"@MarioAsselin Yes,  it would! We\\'ll have to figure out how to make that happen! \",80\\r\\n130,4,@twizlerislove  I miss you...we HAVE to hang out sometime!!! ,61\\r\\n131,0,@killaseze if our Mets can make it to the playoffs we will have to go see a game together. Our boys lost bad tonight ,117\\r\\n132,0,got back from wakeboarding and im very sore and my arm hurts ,61\\r\\n133,0,i haaaaate this mouse... i forgot to bring mine today  i even made sure mine was properly charged... ohwell.,108\\r\\n134,4,Watching some good old tv ,26\\r\\n135,4,buying in &amp; out. thanks for the idea babe. ,47\\r\\n136,0,@JoannaAngel sorry  you of all people don\\'t deserve this,56\\r\\n137,4,I don\\'t want all the people I\\'m following to feed my TwitterFox. I should be able to customise kind of a  &quot;TwitterFox&quot; list. Please... ,145\\r\\n138,0,morning tweeeps! today\\'s the day everything will be over ,57\\r\\n139,0,just tried to find tickets for @taylorswift13 concert at the American Airline Center in Dallas for Sept and there already sold out! ,132\\r\\n140,0,@Nani981 dude only u think he\\'s hot! Nobody else ,49\\r\\n141,4,\"@angelicious17 Aren\\'t you glad TODAY isn\\'t your wedding day?  Yuck, dude!\",73\\r\\n142,0,Oooh five minutes and then Twitter is down for maintenance. We all won\\'t be able to chat ,89\\r\\n143,0,Going to sleep... Thank u for turning me off ,45\\r\\n144,4,\"okay, finally the post is done. \",32\\r\\n145,4,@daliuhh i know... i know that its impossible but we can write it  it isn\\'t painful xD #jonaspoland,99\\r\\n146,0,@MIssKatherine Omg granddads bday was epic lol. &amp; no i havent heard anything yet so i dont think ,101\\r\\n147,0,\"Accccck, homeworks! \",20\\r\\n148,4,watching one flew over the cuckoos nest ,40\\r\\n149,4,@Random_Goodness. Lol haha nice  you should have hit him on the lips and been like &quot;Let me kiss that better for you&quot; haha,131\\r\\n150,0,yay @tiano3 you\\'re finally following me!!! i was feelin really unspecial court!! ,81\\r\\n151,4,I want to say thanks to everyone who commented on yesterday\\'s blog post. You divas are wonderful as always. ,108\\r\\n152,0,@LBROBIN OMG! can believe i am missing so much fun  we got to do it again in the fall!,86\\r\\n153,0,\"dang, i dont want school tomorrow. i neeed the holidays already.. \",66\\r\\n154,4,@ScottSharman I wish! ,22\\r\\n155,0,l lost my VW car key...it really sucks ,39\\r\\n156,0,Great. Now i have a headache. Me duele en mi cabesa. ,53\\r\\n157,0,im Sick  *cough*,16\\r\\n158,0,AT&amp;T crushed my dreams. ,28\\r\\n159,4,@bobbyedner Ahh! You sounded so good during TC\\'s first performance! I hope you sing live when you guys come to TN ,114\\r\\n160,4,@Lilylauren have fun on your day off! I\\'m looking forward to seeing photos of wildlife... Especially penguins ,110\\r\\n161,0,Happy daddy\\'s day to all. to bad the hubby\\'s missing is 1st. ,61\\r\\n162,4,\"@Aisleyne1 Will do, and I think you should BBLB \",48\\r\\n163,0,Can anyone outside the UK send me a gmail invite? @ googlemail sucks ,69\\r\\n164,4,\"@parlai I wonder how many more autographs I can ask for from other people. D: if I email some people, I wonder if I\\'ll get anything back. \",138\\r\\n165,0,I\\'m so upset again. ,20\\r\\n166,0,@DeeRiley cool thanks dee xx i am gonna do some food shopping this arvo and thats about all. not feeling too flash today  have a good arvo,138\\r\\n167,0,ive waited for so long to experience marching&amp;&amp;attend graduation but i have no choice but to stay here &amp;&amp; study online. arghhh. my heart! ,154\\r\\n168,4,\"Is off down Porthcawl later &amp; can\\'t wait either! Gunna be awesome, the dancefloor better look out! x \",105\\r\\n169,4,\"@Dannymcfly hey Danny , I watch the bonus of the radio:active tour DVD, you\\'re crazy man , don\\'t change anything ! \",115\\r\\n170,0,Did you know there are muscles next to your knee cap? I do cause mine hurt ,75\\r\\n171,4,@monikaaabitch thankyou for calling me gay  much appriciated,60\\r\\n172,0,@kailaengland Your pic disappeared from my twitter  It\\'s just a blank square now...  http://post.ly/jcN,103\\r\\n173,4,http://bit.ly/j794L  w00t comic posted itself ,46\\r\\n174,0,Shitfuckdamn I failed again. Plus the next weeks will be full of FAIL. ,71\\r\\n175,4,@rtmoore77 Hey Rose ,20\\r\\n176,0,\"Felt strangely complemented when someone named Horny Hottie followed me. Too bad they were a spam account   Oh yeah, remember #squarespace\",138\\r\\n177,4,\".also spent the whole night with watching the first season of BONES and fell asleep at 8a.m *lol* .. yeah, I\\'m nerdy.. so what of it \",133\\r\\n178,0,@IAmDJRansum  I know u on tonight  We keeping on tuesday and sundays now ..  Im feelin  better just a lil  headache right now,125\\r\\n179,4,@sabbypar thanks for sharing our small salu-salo. ,50\\r\\n180,4,\"@claudiamcfly nonsense but later, i won\\'t be able to reach over the massive food baby i have right now \",103\\r\\n181,4,@khushi4all Yea.. sure! The value was way below normal. But not to worry! ,74\\r\\n182,4,@GottaluvJoe I know I like that show a lot too.. Amanda Bynes is sooo funny ,76\\r\\n183,4,@BeauaBroughton doesn\\'t have the quotes lol ,44\\r\\n184,0,finally receiving texts again... if anything happened yesterday...I missed it ,78\\r\\n185,4,Capuccino + Biscottis + United States of Tara = I love my Saturday nights ,74\\r\\n186,0,@jimhat  Clean Me!,18\\r\\n187,4,\"@tommcfly Well, you can... Watch something on TV  , you probably have cable on the room \",88\\r\\n188,4,@faith268 da next time u hit up Granby u need to call me if you need a partner in crime ,88\\r\\n189,4,had a kick ass gig with S.A. last nite then partied hard till 5 in the morning..slept all day long ,99\\r\\n190,4,@kjofficial have a great day at ascot. Hope its not windy for your hat!! I\\'m going to Ascot myself soon minus head attaire ,123\\r\\n191,0,@iamsuperbianca you must be enjoying i envy you. i wish i could travel too but my schedule does not permit. too bad ,116\\r\\n192,0,i can\\'t believe that kid ditched me at the dance!  i got tricker!,65\\r\\n193,4,@lexadarme What happened?? I\\'m over in 11 days. ,48\\r\\n194,4,@pookie_uk Yes we do but as you\\'re from there it\\'s less surprising! ,68\\r\\n195,0,@SallytheShizzle  *HUG* try ur best. if u fail. whats the worst that could happen? u still gonna look for a job for the rest of the year?,137\\r\\n196,0,asks where are my roommates? haha. ako pa lang dito  http://plurk.com/p/yr35d,77\\r\\n197,4,\"@danportnoy okay, but what is the secret of having more energy than??? \",71\\r\\n198,4,7 more hours to go ,19\\r\\n199,0,@DaraChadwick Thx for the article post re: body image. It\\'s easy to forget how it impacts others as we struggle with it ,120\\r\\n200,0,R.I.P. Sri K. Pattabhi Jois   May you live on in the hearts of the many lives you have helped to transform.  Namaste.,117\\r\\n201,4,@ramielemalubay Where are you headed to? ,41\\r\\n202,0,@helloyen I AGREE AGAIN! :|  gusto kong magising ng late ),58\\r\\n203,0,I am too Jen ,13\\r\\n204,4,\"is drinking her tea, then gunna take a shower and head to work \",63\\r\\n205,0,I just saw a huge turtle about to cross the freeway. I\\'m afraid its gonna get hit.  I\\'m sad now.,96\\r\\n206,0,Oh gah! there so would be an ANTM marathon on while i dnt have time ,68\\r\\n207,4,Getting ready to try @limespace  (by @sensonize),48\\r\\n208,4,@FunkyKiwi Do you have to do that to me? *dreamy sigh* Good he looks so fine. ,78\\r\\n209,4,Gonna go to the pub... anyone wanna follow? ,44\\r\\n210,0,\"when I first meet people its annoying, cause they wanna know my name, but they can never understand it. it makes me feel speech retarded \",137\\r\\n211,0,\"@sparkleyturtle ah man, I miss that show \",41\\r\\n212,4,@francescamusic Oh that is the most fun/stressful time! Planning my wedding was so much fun but I was glad once it was all done!Good luck ,138\\r\\n213,4,\"@allieblue  Hi Allie , pull up a bar stool \",43\\r\\n214,4,Well its time to call it a night! Night-E Nite peepz!  Xoxo ,60\\r\\n215,0,packin\\' up to go to beach with The Cabinet.  Will be great!  Kiley cannot come.  House inspection while we\\'re gone.  Cross fingers!,131\\r\\n216,0,\"@lauzmur i know, i hate the situation i\\'m in too  it\\'s so hard to choose, i\\'m thinking gk though\",96\\r\\n217,4,phone againn ,13\\r\\n218,0,Really wants to get her tattoo done.. but has no idea where to go? Needs a decent tattooist please!!  hehe,106\\r\\n219,0,\"Well, looks like I\\'m going to be down for the month in poker. I\\'m -$172 in May.  Don\\'t cry for me though. I\\'m still +$2706 for the year.\",136\\r\\n220,0,I\\'m REALLY upset that Allison didn\\'t win Top Model! ,52\\r\\n221,0,\"@TheRealJordin aw, im sorry love! Try sleeping it off? \",55\\r\\n222,0,@lintably I am getting so sleepy but trying to b vigilant for Iranian friends!  hope I can rally soon! It\\'s 12:11am here on west coast US,137\\r\\n223,4,\"@peterfacinelli Alright, I\\'m admitting it. I so have a crush on Dr.Carlisle Cullen. -sigh- \",91\\r\\n224,0,\"@NANCY___ nah i\\'m working the whole time. it\\'s gonae kill me, especially if the weather is this nice  bet you get burnt at rockness!\",132\\r\\n225,0,I am worrying about my dog she was snake bit 2 day.  ,53\\r\\n226,4,\"@gabekaron nice picture, enjoy our german beer \",47\\r\\n227,4,@MSHARDBODY goodmorning ,24\\r\\n228,4,i sang in church today ,23\\r\\n229,0,home safe. hoping my fishy lives through the night  i love her.,63\\r\\n230,0,@lmolson as I will u ,21\\r\\n231,0,ciera an netbook @ home. I\\'m @ work.   ,39\\r\\n232,4,\"@strawbrykiwi Funny!  They are the only thngs that scare me. Love spiders and snakes, but ants... No way!  LOL have a good day \",127\\r\\n233,4,@WestHamProcess Happy to caddy ,31\\r\\n234,4,@kaisermommy http://www.dafont.com/starstruck.font this font ,61\\r\\n235,4,seriously has the most amazing and sexy wife! ,46\\r\\n236,0,@mollymolly88 and thats my birthday weekend. ,45\\r\\n237,4,\"Goodnight, tomorrow will be a long day \",39\\r\\n238,4,It\\'s my b\\'day tomorrow! Whieewh! ,33\\r\\n239,4,@romanrijkers &quot;about 8 hours ago from twitterfeed&quot; &lt;-- mistery solved ,83\\r\\n240,0,@laurie_pooh I\\'m relying on the library...reading as they come off of hold  I read 3 yesterday and start 5 tonight with 6 &amp; 7 waiting.,138\\r\\n241,4,@austin_light haaaaappy birthday! tattoo tattoo tattoo. ,56\\r\\n242,0,@MuscleNerd PwnageTool crashes after unarchiving the ipsw.  (I\\'m on PPC-10.5.7),79\\r\\n243,4,@Twitterzilla I\\'m afraid.....very afraid......reminiscing of those funky funky links ,85\\r\\n244,0,prï¿½pare ses exams ,20\\r\\n245,0,@Jonasbrothers I Know i couldnt get tickets to go nd see the concert in Dublin cause it sold out so fast .. ,108\\r\\n246,4,@stefaniemaqz Oh. Fuck bars. Whatever hahah thanks. Trace gets the point. ,74\\r\\n247,4,@momnoir tx doc!  he\\'s 18 mo. so his head is like a rock! he\\'s a climber and fell off a box in our living room (moving so we\\'re packing.),137\\r\\n248,0,Been driftin n swervin all day   Driving lesson #14 tomorrow,60\\r\\n249,0,\"@gleivergonzalez The Gazette are awesome. I can\\'t find them on Twitter, they really not here?  #Dir En Grey is my only find!\",124\\r\\n250,0,\"I can\\'t sleep. Eli climbed in bed with me and now I have his giant little (yes, an oxymoron) foot in my back. He travels while he sleeps. \",138\\r\\n251,0,I\\'m still getting lost in columbia.   born with no sense of direction.  Finally home. Nite nite all...sleep well. Be back if can\\'t sleep.,137\\r\\n252,0,i always tell myself that next sunday ill wake up earlier so i have more time to do nothing.. but that never happens ,117\\r\\n253,0,@SirChilldog That\\'s not good. ,30\\r\\n254,4,@SunshineHammond Goodmorning! ,30\\r\\n255,0,\"school tomorrow urghhh      i love posters (:   and i found my beatles badges, wooo! &lt;3\",90\\r\\n256,4,just finished my first triathlon of the season! Rockstar ,57\\r\\n257,0,oh well now i am not in a reading mood i really wanted 2 watch that movie ,74\\r\\n258,4,has a super sore throat owieeesss but has finished work ,56\\r\\n259,0,I got a new pre the only thing that I do not like is the fact that I have to  pay 60 dollars more per month to use it ,118\\r\\n260,4,@dawnhallybone exciting ( not)   Enjoy!!,40\\r\\n261,4,@BSBSavedMyLife Seems your very anxious... have a great time out there ,71\\r\\n262,0,I go to the restroom &amp; my empty bottles are stolen   http://twitpic.com/6oz23 I was shooting for 4 bottles. TGIF,116\\r\\n263,0,Last day of placements ,23\\r\\n264,4,@matte__ thanks for the follow ,31\\r\\n265,0,\"@Suefromque Glad DH ok, it\\'s not your lucky week for cars is it? \",65\\r\\n266,4,\"Just before I leave I\\'ve managed to try out Spotify, really quite nice hopefully it will still work when I go home but probably not \",132\\r\\n267,4,Turned 15 today. Got a sweet Star Trek cupcake birthday cake. ,62\\r\\n268,4,says happy sunday everyone  http://plurk.com/p/ua4i5,52\\r\\n269,4,\"maybe i\\'ll always love you BUT, SORRY i can be HAPPY without you \",65\\r\\n270,0,\"got to go for lunch now, oh joy! im feeling really lazy right now so i really really dont want to move but im going to have too  byeee!\",135\\r\\n271,4,@FashionLIFE -- i\\'m smiling from ear-to-ear! ,45\\r\\n272,0,work tonight was a fucking killer.. bleh :/  work meeting at 8 in the morning and work tomorrow night  worn out. goodnight lovers. xoxo,135\\r\\n273,4,Playing with @Hootsuite. Very cool. ,36\\r\\n274,0,im kinda mad I decided not 2 go 2 summer jam ,45\\r\\n275,0,Why does it ALWAYS rain when we go to the sox game?? ,53\\r\\n276,0,@GeneralTekno hrmm.. still not sold on him. I really don\\'t like his look  sorry. Tribal tatts are awesome though.,113\\r\\n277,0,OMG lizzy wat about me y didnt u ask him to follow me i keep checking as much as capinding ,91\\r\\n278,0,@snaps4hollywood it\\'s a virus. ,31\\r\\n279,0,is listernin 2 beyonce - diva n is waitin 4 the rain 2 leave us in England! ,76\\r\\n280,0,Am about to do the &quot;parents returning home early from holidays&quot; thing and crash the dog/blackbird party by cutting wood inlays outside. ,146\\r\\n281,4,@Welshracer Oh good  Haven\\'t seen you in a while ,49\\r\\n282,0,I think my laptop just died........................  .................... ,74\\r\\n283,4,On my way home. Only 3 more days at work before vacation  El Paso here I come!!!,80\\r\\n284,4,Just acquired a Mountain Dew flavor!   This is a less-than-annual pleasure ,75\\r\\n285,4,Yesterday was great.  now enjoy the free daaays yay.,52\\r\\n286,4,~~~~~&gt; there\\'s much more to me.....more than you\\'ll ever see..... ,69\\r\\n287,4,@ravensymone Be kind to my hometown  ,37\\r\\n288,0,nothing to do today yet. i haven\\'t been to the beach yet. ,58\\r\\n289,0,possibly getting a new fone?? nd i still love Shawn ,52\\r\\n290,4,@saharial hi hi! love the avatar. the trailer for that movie was AWESOME. ,74\\r\\n291,0,@wstmjonathan if you want to give me a ride   one day I will see you kids play!,79\\r\\n292,0,Service and tyres came to ï¿½350!That\\'s most of my bonus gone then! ,68\\r\\n293,0,\"Ugh my sister is ruining my gym session this morning, I guess ill have to go later tonight \",91\\r\\n294,4,\"dalilah got me a francisco rodriguez angels baseball card for my b\\'day, aww yay! and she wants to get it signed for me. \",120\\r\\n295,4,Soo beat. Going to bed. Feeling amazing  yet tired. Night,57\\r\\n296,4,antm finale~ i want analeigh to win!!! ,39\\r\\n297,0,@Mogki Noooooo  I love you!,27\\r\\n298,4,is preparing for revenge! Seeing a purportedly bloodless Titus Andronicus tomorrow! ,84\\r\\n299,4,\"It\\'s like a lovely package deal, you buy a flight to melbourne and you get 7 days off school on return  courtesy of the swyne.\",126\\r\\n300,4,@LisaKnapp First Night event is nice for Akron...FirstEnergy always used to encourage employees to attend ,106\\r\\n301,0,It\\'s the weekend! Cue: Clouds &amp; miserable weather ,54\\r\\n302,0,just saw one of the most horrible videos. ever.  i havnt cried so hard since the &quot;meet your meat&quot; video.,114\\r\\n303,0,\"@amieewhitney wish u were here, the ceiling is falling dwn..!!  i dnt like the noise!\",85\\r\\n304,0,broke up wit Jordon a month ago and very sad!!!!!!! ,52\\r\\n305,4,@craigas I\\'ll await your review on The Doves  Enjoy Champ x,59\\r\\n306,4,just got back from dinner with my roommates ,44\\r\\n307,4,I\\'m out-standing in my field  ~crop scouting today,50\\r\\n308,0,SHIT!!!!!!! The thunder!!!! Ngagetiiiinnn ,42\\r\\n309,0,@QueenBxoxo just cba voting every day lol ;) ma eyes are okay  lol :$ ohh same its still pourin here  oh well. wot u get out there :$?,134\\r\\n310,4,@WeTheTRAVIS Its rainy right now ): But been sunny recently ,60\\r\\n311,4,at the library agaaaain.. got a nice packed lunch today ,56\\r\\n312,0,I lost the game.. ,18\\r\\n313,0,\"@fatimaajmal Yeah, I\\'m backing them as well,Sri Lanka threw my team out in their last game  But they were my 2nd fav team anyway\",128\\r\\n314,4,i love this show  its simply amazing,36\\r\\n315,0,\"@vinsharma And yeah V, its just all so sad and we all are so powerless. \",72\\r\\n316,4,@crinezza TAKE CARE. HAVE A SAFE TRIP. ,39\\r\\n317,4,For those who haven\\'t guessed..I\\'m listening to six minutes ,60\\r\\n318,4,add me on www.myspace.com/volleyball_babe30   ....@Damieon you are also my hero back ,85\\r\\n319,4,Can\\'t wait to go home to eat. Hope it\\'s something good! ,56\\r\\n320,4,@bradiewebbstack heyy! thanks for making the 11th the best day of my life  love youuu,85\\r\\n321,4,@pseud0random haha yea sweet!! 8 hours on here I we are again.. ,64\\r\\n322,0,@greghurtault went went went...he\\'s still kicking ,50\\r\\n323,4,i am back ,10\\r\\n324,4,@xXAnnieAsylumXx I like you ,28\\r\\n325,0,not happy about missing practice tomorrow because i\\'ll be stuck working indoors for the entire day ,99\\r\\n326,4,In sydney hanging with marnie &amp; ali. If I\\'m reincarnated I\\'m coming back as cool as Ali is ,95\\r\\n327,0,\"@XChadballX tonight , is new found glory coming to belgium, and i can\\'t be there , omgosh \",90\\r\\n328,4,\"@NikkiLynette yes maam, talk all the time you need  I appreciate you!!!\",71\\r\\n329,0,I hate working on beautiful days. ,34\\r\\n330,0,@heyraynie that wasn\\'t a cheque to AE was it? I just heard we got one of those. Either way that SUCKS! ,103\\r\\n331,0,Still sad. I really love that boy ,34\\r\\n332,4,@Severus_Falter Thanks Ash ,27\\r\\n333,4,\"@steph_davies @piaaguirre I forgooot. Archie and I are going to Utah tomorrow to meet his family.  We\\'re on our way, where are you guys?\",136\\r\\n334,4,\"thinking about my love, while sitting next to my love, also thinking this must be love! \",88\\r\\n335,0,@PhlaymzGudMoney ohhh I didn\\'t mean too... Booooo natalie  *walks away with head down,85\\r\\n336,0,Ugh. Was expecting to come home to a plate full of pierogies. This did NOT happen. Now what am I going to eat????? I\\'m hungry ,126\\r\\n337,4,@MickGeorge Sounds like a great idea. I\\'ll def. file it for when I return to work ,82\\r\\n338,4,\"School tomorrow. that\\'s really. quites sad. ) and maybe happy? yea, happy because of friends. \",94\\r\\n339,4,@sherrywagner  you hush yo lip. I don\\'t want to hear a thing about the United concert ,86\\r\\n340,4,Thinking of deleting my YouTube video\\'s and starting fresh. ,60\\r\\n341,4,@LimeIce i told yoooo... and i asked you for ur number as well  but pictures comminup this week ,96\\r\\n342,4,@neufena no WAY!! This has just got 20 times more surreal. Fucking hell! ,73\\r\\n343,0,Its so ugly in my city right now ,33\\r\\n344,0,Tweet tweet. Bored right now ,29\\r\\n345,0,Grrrrrrrr! Sometimes you really do have to breath in....breathe out.  Work = ,77\\r\\n346,4,LOL - I love this: &quot;Search Engine Rap Battle - MSN vs GOOGLE &quot; http://iatelevision.blogspot.com ,106\\r\\n347,4,\"@kennygo it is bro, its not only outside the box, but its tearing up the box \",77\\r\\n348,4,@StaciJShelton njoy ur day! ,28\\r\\n349,4,FIXED MAH ACCCOOOUUUSTTICC! ,28\\r\\n350,4,@sherryta ok deh taaaa  good luck for burglar ,46\\r\\n351,0,so plumber either tomorrow or mon. Means I got a plunger and drain for nothing ,79\\r\\n352,4,@Kekic Lmao i know !! pleaseeee reply  You got any replies yet? :L x,68\\r\\n353,0,Chris Paul sighting! in the highlights ................ I miss my team ,71\\r\\n354,4,very strange - never been this nervous about a shoot before!! mind has gone blank - thank god @SayraOatcakes is coming ,119\\r\\n355,4,\"@MeiNg oh, i did utkatasana last year~i just deleted all of last year\\'s youtube videos today~i\\'ll do standing series poses next week \",133\\r\\n356,4,@ErinSlick I don\\'t know if it eases so much as distracts from the pain ,71\\r\\n357,4,\"@3aneeda yep yep, use the touch for photos, videos, apps but music, no sorry \",77\\r\\n358,0,Mothers day picnic... I had wanted to make broccoli cheese soup and buy mascara at sephora instead ,99\\r\\n359,4,Someone somewhere liked Unlock The Locker http://tinyurl.com/caya6v ,68\\r\\n360,4,@AveNatura @altepper Thanks for the #FF from across the pond!  ,63\\r\\n361,4,@stargirlreads It\\'s cool getting to know moreabout you. ,56\\r\\n362,0,@erinshawstreet Boooo on being sick.  I\\'ll have to give you the details soon. We should do lunch. ;),100\\r\\n363,4,Wishing my sister Sandy and her husband Ellis a very happy 25th Anniversary today!  Y\\'all done good!  ,102\\r\\n364,4,bout to go to da mal now mite get back on later idk tho.... deuczz ,67\\r\\n365,0,says supposed to be tonight ang aming flight to thailand  http://plurk.com/p/p5eud,82\\r\\n366,4,@kateesslemont oh and cutting hair on friday! ,46\\r\\n367,0,woke up early in hopes that i\\'ll go to sleep early tonight... working 2 shifts tomorrow.. one in the morning then my usual evening one.. ,137\\r\\n368,4,@writethevision wow pretty cool tool!  ... Tks  for sharing with @2Live4Him,75\\r\\n369,4,\"Transdesign.com! Why do you exist? Ok, so a hauled again  *wallet is hurting*\",77\\r\\n370,0,inny is sad too  haha but shes happy.melancholia swept her away!,64\\r\\n371,0,in covinaa.   its BORINGGGG!!/,30\\r\\n372,0,american idol. you disappoint me!!  i &lt;3 danny!!!!,53\\r\\n373,4,On my wayy to the Game ! ,25\\r\\n374,0,turned off my alarm and didn\\'t go to the gym this morning ,58\\r\\n375,0,@donkeymomma TY! I just had phone signal DIE. Damn thunderstorms! UGH! Be careful! I could have had a Saratoga ticket for $3 on ebay. ,134\\r\\n376,0,\"Watch your favourite TV shows on PC anytime, even at work! Visit http://bit.ly/xuBPvG ^^Moving out and leaving Wallace \",119\\r\\n377,4,i have found a new workout regimen.....dancing 2 all things trey songz  follow him.....@songzyuup,97\\r\\n378,0,\"@Pipokkio actually, captcha doen\\'s prevent spammers from VISITING you site \",75\\r\\n379,0,\"@jamieleeparker   That\\'s awful.  BTW, my work really needs the illustrations.  So you can get a new car with your rockstar illustrations.\",137\\r\\n380,4,@maddysen  have funn drying ur cups    well im coming now anyway cos im thursty ,80\\r\\n381,0,When I\\'m alone the tears just start again ,42\\r\\n382,4,it was a blast spending time with you mr.big! ,46\\r\\n383,0,@bxsexychiq I knowwwwwwwwwww  when we both had long hair LOL,60\\r\\n384,4,Just got out of class. Going home ,34\\r\\n385,0,nothing really im bored ,24\\r\\n386,4,@SeviDesigns   What\\'s the new job?  Congrats   Wish I was that happy going to work on a Monday! LOL,99\\r\\n387,0,&amp; i have the SAT tomorrow!!!   Everyone wish me luck!!!,59\\r\\n388,0,Called nonstop to loveline to talk with @drdrew and @oliviamunn. I got in! The guy told me he couldn\\'t get to me. Had a good question too ,138\\r\\n389,0,I  WANT TO SEE LAND OF THE LOST BUT @iamkelis SAID IT IS BEST TO WATCH IT HIGH....I DONT SMOKE THO ,99\\r\\n390,0,needs a break from the bosssssss. cant stick it to the man this  time  but i can flee to palm springs!!!,104\\r\\n391,0,I have the worst headache I\\'ve ever had. Feeling sick and going to bed. ,72\\r\\n392,4,@The_Dukenator listen to the new stuff. its really good ,56\\r\\n393,4,@shimmsham ate mo san? ,23\\r\\n394,0,Good luck Qusay. Here\\'s hoping someone calls the number on her collar. ,71\\r\\n395,0,@zinedistro video doesn\\'t work  #squarespace,44\\r\\n396,4,Nothing beats spending an evening with my mom ,46\\r\\n397,0,I wish I could be skinny enough to look good in anything. Like those http://lookbook.nu people ,95\\r\\n398,0,a transformer blew up behind the house so I no longer have any power ,69\\r\\n399,4,\"Basically one day left in france, woohoo \",41\\r\\n400,4,So so so so close to being &quot;finished&quot; with this project. Maybe I will have time to have a life  (no probably not).,124\\r\\n401,0,\"Feet are killing me. Walking with no trainers on is agony, poor poor feet \",74\\r\\n402,4,@Woman_in_White  But no mail for you also means no bills. That is a good thing. ,80\\r\\n403,0,@MissConfusion17 The humidity is back too ,42\\r\\n404,4,@PrinciplePap seen them twice at nec at v festival and one of the wembley gig I can\\'t wait till nov now ,104\\r\\n405,4,\"@itslesliecarter wow! congrats, Les! Im glad u found a new bass player!   so, welcome to our community, Mark!! if u know what i mean \",133\\r\\n406,0,@mandielovesmac @sq41 p.s if you did text me about it sorry i havent got my phone on me ,88\\r\\n407,4,\"Amazing night in Dallas with my Advanced TV Production class  Happy Birhtday, Sam!!\",83\\r\\n408,4,\"OMGGG Sims 3 Hasn\\'t come, BUT my dad said he had a plan SOOOO FINGERS CROSSED!!!!!!!!!!!!!!!!!!! \",97\\r\\n409,4,@InFVCA @mikeeemoore i wish i could be at your guys\\' first game! :[ good luck and have funnnn ,94\\r\\n410,0,@Jessicaaxo I\\'ve followed him- don\\'t think he will win sadly  Whats a verified account? Am I thick? oui.,104\\r\\n411,0,that my last day of sch. last day of my high sch sch life ,58\\r\\n412,0,english mystery story due tomorrow and cbf cos just got back from production practise     -sighss-,98\\r\\n413,4,@mattvensel You mean LeBron isn\\'t an option? I think he would have beat Orlando if the other four guys didn\\'t drag him down. ,125\\r\\n414,4,@imtheclassnerd hi!! Lol i figured out how to do it ,52\\r\\n415,0,My fish died... ,16\\r\\n416,0,\"@bronte_saurus Oh, sweetheart! I\\'m sorry! Have you tried soup? \",63\\r\\n417,4,@PinksTwitFans lol maybe ,25\\r\\n418,0,So upset  lol,13\\r\\n419,0,Song of the day ---- bananna pancakes by jack Johnson it suits the weather and my mood   check it out,101\\r\\n420,0,NOOOOOOOOOOOOO! The Cab show for chian reaction is sold out ,60\\r\\n421,4,Off to the dentist... ,22\\r\\n422,4,Graduation today  Happy for My kids But Im going to miss them... I already got attached i Just love them &lt;\\\\3JLP,114\\r\\n423,4,@zeatres nola not to that extent hahah are you crazy. and what contacts ,72\\r\\n424,0,@valforness unfortunately no. I have to close that night ,57\\r\\n425,0,@kevin_anr_shine on mobile web... wont let me dm  !!!!,54\\r\\n426,4,\"@JoshFittell haha, i jadore haters. they make my day \",53\\r\\n427,4,@JaimeMcKnight  Sent you the pix  and THANK YOU!!,49\\r\\n428,0,Well after watching the first 20 minutes of the Tonight Show with Conan O\\' Brien I must say that he hasn\\'t impress me at all! I miss Leno ,138\\r\\n429,4,@nickgravelyn hehe I was just kidding  I\\'m loving creeps on the iPhone atm.,75\\r\\n430,0,@SammyClaire There\\'s a parade for the Lakers and all of downtown is probably blocked off! ,90\\r\\n431,4,@BuddyThePuggy u r right!!!!! i\\'ll try to make one today  though poppy\\'s been to the hairdresser and her hair is TOO short!!!! ,127\\r\\n432,0,\"@tank_tankersley I was really busy yesterday, and I follow so many people that sometimes tweets get lost in the mix.  Like yours, sorry \",136\\r\\n433,0,\"looking at the Air France tragedy on the news, my prayers go out to all   Hope everything turns out okay...\",107\\r\\n434,0,what a terrible last 2 days   can I pull it together in time for saturday?,74\\r\\n435,0,Dinner wasn\\'t so great! Doing The dishes.. ,43\\r\\n436,4,About to put shea butter in my hair and put a mint julep masque on my face ,75\\r\\n437,0,\"is thinking that it sucks that direct tv doesn\\'t have on demand  sesame street only comes on twice once at 6, then at 10.\",121\\r\\n438,4,\"Been on me feet all day! Goin for a brisk walk now, then shower and settling in with a long distance phonecall for the evening \",127\\r\\n439,4,\"um who knws whre to get those like puma , addidas ; or nike pencil casses frm ? LOL !  ;x\",89\\r\\n440,0,@medscholar08 should be done by tonight.. been tough to find interesting news to blog about so far.. ,101\\r\\n441,0,@alexbrooks Tell me about it. I\\'m on the phone paying my Â£421 Orange bill ,75\\r\\n442,4,\"@markhundley Mark, you are so awesome! Thank you \",49\\r\\n443,4,going to sleep. fun day tomorrow! ,34\\r\\n444,0,So sad I\\'m not in Manning Park ,31\\r\\n445,4,new pic ,8\\r\\n446,0,theres nothing on tv and no money to go do anything ,52\\r\\n447,4,@twistingmymelon you should do a website or link to a page with all your reviews together ,90\\r\\n448,4,First day back and I\\'ve already booked a week off ,50\\r\\n449,4,I am buying a fly ticket to Milan.. ,36\\r\\n450,4,234 people want Robert Downey Jr. showcased! Add your signature too   http://tinyurl.com/da59hx,95\\r\\n451,0,@serenity74 mornin girl. I dont wanna go to work  wow who sent that pic of the girl at Today show?,98\\r\\n452,0,@joeindahouse you\\'re kind of a jerk and i hate you for that. haha. but not really. ,83\\r\\n453,0,@TalhaIzhar I so need the rain too ,35\\r\\n454,4,\"@forgottenbylove that sucks, i really hope you can go there sometime, too! thanks!! it was nice, although we haven\\'t had that much time \",136\\r\\n455,4,\"I feel kind of..idk, weird. I think seeing Sarah is exactly what I need \",72\\r\\n456,4,\"Me, on the other hand, still nursing this darn hand injury...occasionally putted to a foot! \",92\\r\\n457,4,\"(@IMlisacowan) In bed with heather, SHUT UP YOU PERVS \",54\\r\\n458,4,is going to Disney Sea NOW!!!!!!!!!! ,37\\r\\n459,4,\"@thorborg Oh, and I still maintain that I am not selfish or stupid for not wanting to see ads \",94\\r\\n460,0,@bus_to_subway ...oh you know the usual..8-5 grind!  Enjoy the game tonight! Bet your seats are by Matsui haha,110\\r\\n461,4,Today\\'s the first day of the rest of my life... and I\\'m alive and well. ,72\\r\\n462,4,\"Zkouï¿½ka Twittu p?es transport,omlouvï¿½m se \",46\\r\\n463,0,Back from Vegas...tear.. ,25\\r\\n464,4,\"@seanpaull I will be, it\\'s bexs i\\'m worried about! LOL anyway, off out into the rain, catch you later \",102\\r\\n465,0,@JonathanRhys Stuck indoors with the flu and missing my sister\\'s Parma party tonight. ,86\\r\\n466,4,Really happy! everything could be changed for 180 even in 35 yo ,64\\r\\n467,0,At Abbies watching the messengers. Hope brytty starts to feel better. Diggin the iPhone update! Wants mms tho... ,113\\r\\n468,4,@paysonjewelry YAY!! I\\'m so glad you did this! ,47\\r\\n469,4,\"time to hit the sack, another early day tomorrow. play day at my nephews school. then lunch with the boyy \",106\\r\\n470,0,Happy Mothers Day everyone. Getting ready for early church then I\\'ll be moving my furniture into storage ,105\\r\\n471,0,is in comp. sci. about to go to math. physics final today.. poop. ,66\\r\\n472,4,\"had to stop in the office to print out my book for final editing, I can \\'t wait until this is done!!!! and in print of course \",126\\r\\n473,4,coffee with prime gal pal cherry...guy-bashing or baka naman guy-gushing kami mamya... ,87\\r\\n474,0,@Prez1stLady realllly .. Hahaha I\\'m gettimg here now we had to take turns  ....,79\\r\\n475,0,Somebody saw my voice? Somebody??? I lost it... ,48\\r\\n476,0,another week has passed since we were together  how much longer,63\\r\\n477,4,@AlexWitt you look good in that white thing around your sholders ,65\\r\\n478,4,a nice day..but I don\\'t go out tonight. ,40\\r\\n479,4,@lesley_simpson Yessss ..... Praise God  .... Arghh my hairrrrr ... Why did I follow ur mistake with hair,105\\r\\n480,0,it wont let me upload a picture ,32\\r\\n481,4,@yiyinglu thanks! I think you are wishing me a good trip! Either that or something about my washing machine? ,109\\r\\n482,4,\"whaaaaaa, summer is crazyyy, tryna find somethinggg to do \",58\\r\\n483,0,\"@nerdwriter my plane leaves on sunday!  sadness. how have you been? (sorry if i don\\'t respond for a while, i\\'m off to bed)\",122\\r\\n484,4,i love the idea of nuns at a baseball game  but hates the idea of seaguls here,78\\r\\n485,4,\"@laurawalkerxo eh, june 15th  are you going to the signing on the 18th, i think it is? x\",88\\r\\n486,4,@steeph and books don\\'t carry virusses ,39\\r\\n487,4,mmm i love me some fake strawberries and whipped cream ,55\\r\\n488,0,Ugh I don\\'t want to open tomorrow!! And I\\'m so confused!! ,58\\r\\n489,0,@Dhareza *throws a kleenex* i r sorry ,38\\r\\n490,4,@RYANWWILLIAMS um um bum bum. IN THE SUMMER! we havvve to  OMG. i should totally impose on my cousin who lives thurr and...,123\\r\\n491,4,@LittleLee well you\\'re the only person i know who doesn\\'t like mushrooms so ner! ,81\\r\\n492,0,&quot;Up&quot; is all sold out!! ,33\\r\\n493,0,\"Sad... the more I go out to 2nd ave on happy hour, the more I realize that downtown is losing sunlight and gaining shadows \",123\\r\\n494,4,I-announce ko kaya ang Twitter username ko sa class ko. What do you think? ,75\\r\\n495,4,@sloppyness only you babe. &lt;3 ,33\\r\\n496,0,only 5 more days till I leave ,30\\r\\n497,0,\"@rotae Hey, sorry I couldn\\'t make it to your party. \",52\\r\\n498,4,\"So many amazing tweeps to talk to on Twitter, so little time, sigh! Luv ya! Back 2moro!! \",89\\r\\n499,0,@lili17mc ok baby  ugh i love you so much and im so mad right now at your mom lol sorry but i am! Love you lil sexy mama,120\\r\\n500,0,not been this fed up in a while  need some serious cheering up,62\\r\\n501,0,made myself a whole 12 cup coffee pot of green tea..I can\\'t find the honey  so sick I wanna cry...weak shit yo,110\\r\\n502,0,\"@SGPersonal TAYLENA DAY OVER???   IM CRYING...... dnt wrry sel, ur a wonderful girl. i know youl find the right guy...its a matter of time\",138\\r\\n503,0,Kitty cat just brought me a present. Don\\'t know who told him I like birds cause I don\\'t!  Especially dead ones in a cats mouth.,127\\r\\n504,0,\"@AJAG Lol, well have to make sure website works on IE!  And for this region, even on IE6!  Adsense preview tool only on IE for some reason\",138\\r\\n505,0,Damn.. I\\'m ill! I hate it! ,27\\r\\n506,4,License back in 3 days! ,24\\r\\n507,0,wahh! wOlOng next ep. ng bOys Over flOwers  efal naman uh.! ,60\\r\\n508,0,ALLISON SHOULD HAVE WON WHAT THE EFF! ,38\\r\\n509,4,Omg going on a date. Didn\\'t eat nada all day so fuckin nervouse thank god for smoothie king ,92\\r\\n510,0,gud / bad day??  Its goin gud cuz i have da day off...its not so gud cuz im not feeling gud...i think im getten sick..  ,120\\r\\n511,4,is it\\'s so gorgeous out! Going to the lake! ,44\\r\\n512,0,\"@marsacademy Aww, no in New Jersey right next to the city  it\\'s awesome here \",77\\r\\n513,0,@RobertBrown I wish they\\'d sort it soon - clients shop has been down for over 24 hrs now ,89\\r\\n514,0,\"back to war *sigh* seems its always been the way; those same coast salish peoples raided up &amp; down this coast, alaska to puget sound \",137\\r\\n515,0,thank god theres still remodulers like me scattered around the class. econs class come quick at least i have @abcdefglynis my bff with me ,138\\r\\n516,0,\"english homeworrk, texting ardenn &amp; waiting for my brother to come home and order my ticketss! thennn bedddd, schoool in the morning \",137\\r\\n517,0,\"I REALLY WANT TO GO TO artesia , cerritos on sunday for QUEST! LOL. imma die if i dont \",87\\r\\n518,4,@sweetchica329 Hey!! Haha o yesss it is!! yayyy im so glad we\\'re on break  Have a great summer! Any cool plans?,111\\r\\n519,0,Temperature here in Lucknow is so painfully high! ,50\\r\\n520,0,\"@SamH_34 Because I\\'m stuck at work  sniff, sniff...............\",63\\r\\n521,0,\"i feel like a hipster standing in the back with my arms crossed, but this band is SOO bad \",90\\r\\n522,0,\"They think a tornado touched down in NC last night. Pray for the ones who have lost their homes, belongings and loved ones. \",124\\r\\n523,4,\"@PRChels_BE I heard the Yellow Light Maybes put on a great show Saturday! Sorry I missed it, Chelk. \",100\\r\\n524,0,cmon now....I bleed purp n gold. Trust me. I was upset when I found out we were the thuggets. But the league chose our name. ,125\\r\\n525,4,\"Rachel, you going to start following me pretty soon? huh huh? \",62\\r\\n526,4,@Dr_Mystery fatty ,18\\r\\n527,4,i love you megan  lmao,22\\r\\n528,0,come on... drop by 1  72. jumptags.com,38\\r\\n529,0,I\\'m ready to go home to my baby. I miss my nu-nu! I just tried calling buy she\\'s sleep! ,88\\r\\n530,0,@AnnikaRaymundo i miss you. ,28\\r\\n531,4,And ill always owe you for that ,32\\r\\n532,0,&quot;A Million Miles Away&quot; does not seem to be on iTunes in the US...   ,78\\r\\n533,4,@jonasbrothers http://twitpic.com/58grb - Nick I love you ,58\\r\\n534,0,@kalmichael i got the 3G in March ,34\\r\\n535,4,@krystyl hahahahah I can tell! ;-P @jennicricket you guys are so fun to talk to on the phone. ,94\\r\\n536,0,\"@SharmineQuiamco  ok, then......\",32\\r\\n537,0,@Secret_Angel study stuff for my silly exam  x,46\\r\\n538,0,@blahnthony it wont help. lol. i still flip out.  damn dentistry.,65\\r\\n539,4,watching \\'\\'Days of our Lives\\'\\' ,31\\r\\n540,0,\"@backstreetboys Guys, I don\\'t know why but someone deleted your results in Twitter competition. I\\'m upset  #BSB\",111\\r\\n541,0,@jade___x but toy story 2 wasn\\'t good ,38\\r\\n542,4,@a99kitten Hehe Twit miscommunication! ,39\\r\\n543,0,\"@CalendarGirl09 hey cherry! My afternoon clients cancelled or no-showed, I\\'m ready to go home but I\\'m not going to be able to \",126\\r\\n544,4,@johncmayer well its different coming from you thats for sure ,62\\r\\n545,4,Going shopping with teenagers...god surely invented them to punish us for sex ,78\\r\\n546,0,\"#SanctuarySunday @sez101 yeah, we had seven yesterday, but I can only find two and a quarter (lol) today \",105\\r\\n547,4,I think I lost some followers! Huzzah! ,39\\r\\n548,0,@figuromo aww can\\'t make it on Sunday!!!  will you be there everyday?,69\\r\\n549,0,Too hot in Northern KY today! We have a heat advisory at 8am! ,62\\r\\n550,0,i think i broke my little toe ,30\\r\\n551,4,\"@MacyCan Oh, you and your silly California time zone. \",54\\r\\n552,4,Showering then going to grandmas house ,39\\r\\n553,4,\"for everyone who keeps asking, i am getting my Blink-182 tickets this Wednesday! \",81\\r\\n554,4,I can\\'t believe it\\'s already June...I\\'m going to become an Aunt this month! ,76\\r\\n555,0,\"@ConnorsCompShow Lucky, our BestBuy only has PCs on display  How was the MacBook keyboards? Rubbery?\",100\\r\\n556,0,#Pidgin 2.5.6 + #GnuTLS 2.8.0 = #gtalk woes (TLS packet with unexpected length received)  #jabber #xmpp,103\\r\\n557,4,\"the storm is here. soon the electricity will be gone too. goodbye, i guess \",75\\r\\n558,4,@csiriano ur in LA?! Come to my cancer benefit Monday June 1st @ Cinespace! Let me know. Awesome event! Lots of press. www.art4lifeca.com ,138\\r\\n559,4,new tweet for moni: countdown: 18 days  ,40\\r\\n560,0,\"Hating early starts, especially when bed is all snuggly and warm \",65\\r\\n561,4,New Moon clip so worth waiting for ,35\\r\\n562,4,\"@marcusfoster1 : I hope to see you in LA!!! And, a song that makes kississaknife sound like Mary Poppins?! I really want to hear that! \",135\\r\\n563,4,Good Morning Tweeter Land ,26\\r\\n564,4,\"@Linnyxx17 hey i got your GB signing...yes Kyle4Sims3 is my BBS name  haha its cool that you found me off SimPrograms,im following you too\",138\\r\\n565,0,ah. tired. i wish i could go to bed listening to my music...i\\'ve been trying to fall asleep all afternoon. ,107\\r\\n566,0,\"Goshhh, chemistry paper 3, honestly I know nothing about chemistry  http://myloc.me/2aXS\",88\\r\\n567,4,Enjoying the peace and quiet before my children wake up for school ,67\\r\\n568,0,It\\'s boring now ,16\\r\\n569,0,unpacking  and later going out to buy prison break 4 and he\\'s just that into you!!,82\\r\\n570,0,@Stephaniemusic love u!! and love mr. player! come visit me  i miss u girls,75\\r\\n571,4,\"@jarsto Way to go  I have a Star Trek game for my iPod, but I dislike the game play mode - not enough control and the mission?No clue.\",134\\r\\n572,0,really not feeling well ,24\\r\\n573,0,Its pouring today  fail.,24\\r\\n574,4,@PhotoKristina Hey mami - did you have black shades on at Funk Fest?I was backstage                         Entertainment Coordinator,133\\r\\n575,4,lol! taylor lautner...yeah  hes my age ,39\\r\\n576,4,@rayjudy thanks babe! ,22\\r\\n577,0,@goodlifeeats I can\\'t comment on your blog.  It keeps telling me to choose a profile but there are none to choose from. tried 3 browsers ,137\\r\\n578,0,I have the worst cramps ever. ,30\\r\\n579,4,\"having a mom here cooking is awesome.    no matter what age you are, moms can make you feel like a kid again.\",109\\r\\n580,0,@naehutch Yes I think dogs are the best for #depression ... wish i had a dog/could afford one. ,95\\r\\n581,0,@Calcobrena Its blocked at work  I\\'ll have to check it out at home..thanks  though!,83\\r\\n582,0,@hiphopwisdom Yeah that was an ass kickin on our own turf  very upset!,70\\r\\n583,4,@Chisstwitt Oh yes! lol Great choices there! Would be fab if we could just have music on hand for our life blasting in the clouds!  xx,134\\r\\n584,0,[-O] @alliesmiles ugh i wish i could but im going to palmsprings  http://tinyurl.com/kv9qbj,91\\r\\n585,4,@clarebear__ That rocks bella!!!!  I still need to get mine...which section did you get??? ,91\\r\\n586,0,@Glinner I\\'m sorry. It sucks I can\\'t get spotify free. I would never stop you but I just got 5 links from 3 different people. It\\'s crud. ,137\\r\\n587,0,@MickDeth STOP IT. ,19\\r\\n588,0,not feelin\\' so well in d afternoon.. ,37\\r\\n589,4,\"@Twilight_sm I\\'m guessing you are staying up all day tonight? =/ cause the mtv movie awards, am i correct? \",107\\r\\n590,0,i cant believe i missed the @oaklandAs trivia...giambi is my fave player ,73\\r\\n591,4,\"@cheungkyy haha, you\\'re cute \",29\\r\\n592,4,\"@Keleigh I guess so, probably a touchy subject. Won\\'t talk about that for a few days. Orlandoites, go drown your sorrow in burritos! \",133\\r\\n593,4,@MistaBiggz welcome mista ,26\\r\\n594,4,Twitter is making me paranoid... I always feel like i\\'m being followed. ,72\\r\\n595,0,I wannna take a nap ... Not go to work !!!  !!! Tired today ,60\\r\\n596,0,im going to have a boring ass weekend ,38\\r\\n597,4,finally off to swim ,20\\r\\n598,0,\"@FROactiv it was a great substitute for me. god, i wish i weren\\'t allergic to soy. i\\'d be all up IN some morningstar farms right now. \",134\\r\\n599,0,@Jonasbrothers Wish I could go   I\\'m brazilian...,49\\r\\n600,4,@jordanknight Happy Mother\\'s Day to your mom and wife today ,60\\r\\n601,0,Mundane Monday!!!! Weekend\\'s over ........ ,43\\r\\n602,0,\"such a failure, i just ate a char siew pao  just when i thought i can skip dinner and go along my non-existent diet\",115\\r\\n603,4,Just launched the new Wacky Wednesday Sale. Easy turnkey website in a HOT niche at a &quot;wacky&quot; price.     http://ezclik.com/is/easyturnkey,146\\r\\n604,0,has a wisdom tooth coming in ,29\\r\\n605,4,\"@KeelandEllis Unlike you, I\\'m busy all day being productive! And drinking beer \",79\\r\\n606,0,Wish I was in Dallas @ the JB concert ,38\\r\\n607,4,a huge shout out to GND Source my new friend ,45\\r\\n608,0,\"@jason_mraz Happy Birthday Mr. Mraz. Hope your stay in Oslo was enjoyable. I missed your concert tough, had to work  Best wishes.\",129\\r\\n609,4,wanna join a twibe?:  http://twibes.com/OuterHebrides   gone all \\'twibal\\' - hehe ,81\\r\\n610,0,\"It\\'s official, I have a blister on my foot  just red, not icky, but irritating. Did barefooted development today, felt hippy.\",125\\r\\n611,4,@Jbernal90 your still in there lol im sorry.....NOT ,52\\r\\n612,4,\"@coachtanya @coachtanya Ya see, you\\'re encouraging my bad behavior  It doesn\\'t take much, ya know...\",100\\r\\n613,4,meeting the bf later ,21\\r\\n614,0,Stupid leaf blower woke me up ,30\\r\\n615,4,touchtheapple.com is back ,26\\r\\n616,0,Hey all! I\\'m just on my way to work  got a busy day ahead of me! How are we all?,80\\r\\n617,4,\"Summer holidays start in 5 days..  well, atleast for my brother. D: I gotta wait one more month of torture.\",107\\r\\n618,4,at the mtv awards right now ,28\\r\\n619,0,\"My poor boyfriend...headed to work a 12 hour shift, on 2 hours of sleep. I hate his job \",88\\r\\n620,4,\"@NickBrownOnline duh, there is a &quot;no sleeping&quot; rule in mexico.  jaykay.\",81\\r\\n621,4,does anybody no if the g1s are any good ,40\\r\\n622,4,(= I am the Universe\\'s pupil... dilating. ,42\\r\\n623,0,Wheel hop in a 258whp FWD car does $$$ to the tranny ,53\\r\\n624,0,omg i keep losing followers this is so sad  i want 90 one day....thats my goal ;D,81\\r\\n625,4,this is @jaimeeponeslife on megan\\'s twitter  i looove you giiiiirrrrrrrll(:,75\\r\\n626,0,\"Yes @Pamluther I have a goal &amp; am searching out all conservatives at Examiner. Sorry, slow computer  Joseph is  Catholic_Examin\",131\\r\\n627,4,nitevoli.multiply.com birthday pictures ,40\\r\\n628,4,@AYellowHouse Hello! ,21\\r\\n629,4,@sakuratears19 Thanks. ,23\\r\\n630,0,@CHactingNYC But it means I have to do loads of exercise which I HATE! And I have no time for it at the moment ,111\\r\\n631,0,\"bored , haven\\'t a clue what im doing today \",43\\r\\n632,4,\"@thelongmile Why not try a XAMPP. It\\'s cross platform (Mac, Windows, Linux). Free and fast!  You\\'re going to love it!\",117\\r\\n633,4,\"@becskr sorry... Was feeling sideways when I left. Si should be down in the next couple of weeks, I\\'ll get him to grab the shirt then. \",135\\r\\n634,4,Louis check your bank you should have 5.5T  re: http://ff.im/3tIQl,66\\r\\n635,4,\"Yo yo, The Sims 2 time! \",24\\r\\n636,0,Ti-vo has let me down. No watching made of honor   instead its time to watch hsm3,81\\r\\n637,0,\"Listening to the rain and watching the lights flicker.  Sorry baby, you\\'re tivo was interrupted.  \",98\\r\\n638,4,@MabelleK I\\'M TIRED TOO!! I HOPE U HAVE A REALLY GOOD KNIGHT!!! SWEET JORDAN DREAMS!!! ,87\\r\\n639,0,Have an interview set up and need to extend my stay now. I will not be able to attend. ,87\\r\\n640,0,I want Sweet Berry Bliss\\'s frozen yogurt. Too bad it\\'s only in Long Beach. ,75\\r\\n641,4,\"Ð?Ð° Ñ\\x80Ð°Ð±Ð¾Ñ\\x82Ðµ Ð¿Ð¾Ñ?Ñ\\x82Ð°Ð²Ð¸Ð»Ð¸ Ñ?Ð²Ð¾Ð¹ Ñ\\x82Ð²Ð¸Ñ\\x82Ñ\\x82ÐµÑ\\x80. Ð\\x9bÑ\\x8eÐ´Ð¸ Ð´ÐµÐ»Ð°Ñ\\x8eÑ\\x82 Ð²Ñ?Ñ\\x91, Ð»Ð¸Ñ\\x88Ñ\\x8c Ð±Ñ\\x8b Ð½Ðµ Ñ\\x80Ð°Ð±Ð¾Ñ\\x82Ð°Ñ\\x82Ñ\\x8c  Ð\\x94Ð°, Ñ?Ð²Ð¾Ð¹ youtube Ñ\\x83 Ð½Ð°Ñ? Ñ\\x82Ð¾Ð¶Ðµ ÐµÑ?Ñ\\x82Ñ\\x8c \",180\\r\\n642,0,doing gentle physio today - as couldn\\'t get out of bed meself easily this morning  doh on the plus side I get to denijohn the wine 2nite!,137\\r\\n643,4,@FTSKBrittanyy You guys can become pen pals via email ,54\\r\\n644,0,I LOVE ALL MY TWITTER FRIENDS...THEY ARE SO AMAZING!! im headed to they gym..thats not so amazing  yall about to see a whole new DOLCE,134\\r\\n645,0,\"@JennPossible Already?!? Gezz, that\\'s a new record! \",52\\r\\n646,0,@jonasbrothers http://twitpic.com/624qo - but a brown snake bit my duck named Elvis  anyway ahaha Elvis is soo cutee!! And so is Nicho ...,138\\r\\n647,4,can you say |ROAD TRIP| w/ bae!* fun.fun.fun. haha. glad we made up ,68\\r\\n648,0,\"OMG. the KKK scene in o brother where art thou TOTALLY freaks me out       i hate it, but it\\'s an eye-opener.\",109\\r\\n649,0,@Layzz13 awww hun why? ,23\\r\\n650,4,Dintist today! My teeth are excited lol ... HOME ALONE for a week!! and im startin it off with my Fantastic 5 tonight! Were havin a date ,137\\r\\n651,0,why isn\\'t in plain sight on demand yet? ,40\\r\\n652,0,FGS. 6 GIRLS ON SIMS. I WANT A BOY TO CALL HIM ALFIE. ,54\\r\\n653,4,\"http://twitpic.com/4jkea - @edstetzer now has 10,000 followers! Congrats! \",74\\r\\n654,4,\"letÂ´s have some fun,this beat is sick, I wanna take a ride on ur disco stick...  true story\",92\\r\\n655,0,is sad  http://plurk.com/p/xu6k7,32\\r\\n656,0,after walking to the bus stop and then to college has made me feel very ill again  and ive got 5 hours of college to survive,124\\r\\n657,4,@audreycnn Duty calls. The workout of course ,45\\r\\n658,4,@trmink HEY THOMAS!!!!  have a very good night!,47\\r\\n659,4,aaaw finding nemo ! will see this movie right now again  UPDATE ! i saw it like a billion times..  AND ONE ,107\\r\\n660,0,@jonaskevin he never answer my tweet.!  but i still love you. because i now you have a busy day.! &lt;3 u!,106\\r\\n661,0,\"mom claims 2 hostesses, 2 waitresses, and 3 customers, checked me out while dining. I noticed none. This is why i will die alone. \",130\\r\\n662,4,byeeee all!!!  leaving now. for five days.,42\\r\\n663,0,\"eating ceral, getting ready for shitty workk \",45\\r\\n664,4,On my bed watching tv ,22\\r\\n665,4,Just got done straighteing my hair ,35\\r\\n666,0,thinks that he needs to go to the gym ASAP. sayang ang membership fee! 7 weeks of no gym na..  http://plurk.com/p/12p5zs,120\\r\\n667,4,@dgoemans I\\'ve already (privately) beta tested Evil Aliens and gave your colleague a bunch of feedback!   I\\'ve done this with a few shmups,138\\r\\n668,4,Cock Rings Galore http://www.sexyfun.co.uk/blog/cock-rings-galore/ just did a new post on SexyFun.co.uk blog ,109\\r\\n669,0,@jordanmccoy I was up at 4:00  haha,35\\r\\n670,0,Jess hijacked the TV ,21\\r\\n671,0,@killaseze drink some tea or hot milk... why cant u sleep?? I so dont wanna go outside.. its chillyyyy ,103\\r\\n672,4,Black Ryno - Can I (movie star riddim) -- ladies listen then just gimme a call ;) ,82\\r\\n673,4,going to the movies ,20\\r\\n674,4,\"@cancrizans Davidoff\\'s?  Zack, my brother, uses Davidoff. He gave me his empty bottle. I loveee the smell.\",106\\r\\n675,4,the average person swallows 8 spiders in their sleep throughout their lifetime....sleep tight ,94\\r\\n676,4,To clarify that last comment - could have saved myself having to break off from current project if my idea actually existed ,124\\r\\n677,0,Stranded and can\\'t get home for almost an hour. No bus  SAVE MEE!,65\\r\\n678,4,\"If i will win, it will be a big big bonus! \",43\\r\\n679,4,Going out to Dinner  Happy Friday everyone ,43\\r\\n680,4,Unpacking a delivery of dresses - there are going to be some very happy brides later this week  Oh I love my job!,113\\r\\n681,4,I took a shower then didnt feel like strightening or curling my hairl haha so its just blehhhh for tonight. i dont mind tho ,124\\r\\n682,0,ugh.... 8am  have to work from 930-330 today.,45\\r\\n683,0,\"@lonewolfoftexas I was wrong, the biatch gone done me BAD  - http://bit.ly/40SHY\",80\\r\\n684,4,Funny that people like the post shows better than the podcast itself.  ,71\\r\\n685,4,me and chris think esther tweets TOO MUCH! ,43\\r\\n686,0,So AT&amp;T cancelled my iphone 3G S order and can\\'t explain why. So I have to wait 10-14 business days to get it ,114\\r\\n687,4,i had a wonderful day today.. ,30\\r\\n688,0,Was hoping to have a new toy in time for BarCampSD this weekend... sad ,71\\r\\n689,0,leeetiiciareally tired  the travel was good ,44\\r\\n690,4,\"TALKiNG 2 HiM  DAMN i LUV RELATiONSHiPS iN THE BEGiNNiNG. HE WAS GONNA COME HERE 2 SEE ME &amp; i WAS ABOUT 2 GO OUT THERE 2 SEE HiM, SO CUTE.\",142\\r\\n691,4,@stephenashfield http://twitpic.com/4gs3f - Have a brilliant time; hope you get great weather. Have fun! ,105\\r\\n692,0,@jocelynelaflamm Totally get you girlie ,40\\r\\n693,0,maven downloading the internet again... sigh ,45\\r\\n694,0,On as Paddygt.  Had a go today but failed as I didn\\'t really know what I was doing  was a multi question one....,112\\r\\n695,0,@MommaDanddaboyz night     take care #bookieb,45\\r\\n696,0,is tireed ,10\\r\\n697,4,\"@lovelylynda Oh yeah, it will be fine! \",39\\r\\n698,0,I think @Cztron made me sick this morning LOL  ,47\\r\\n699,0,@sutherncrazygrl  What\\'s happening girl ? Why are you like this today ?,71\\r\\n700,0,@Chely09 I miss my cachetes   are we on next tues and wed?,58\\r\\n701,4,Tickets for Green Day\\'s show here in sweden will be relised today!! ,68\\r\\n702,4,Just got home from a quick game of badminton. Enjoying a cup of mango juice before prepping dinner. ,100\\r\\n703,4,@tallib everyone knows that. ,29\\r\\n704,0,\"i said im so much better witout u , but it just anthr pretty lie cuz i breakdown evrtime u came around  - @ddlovato\",115\\r\\n705,0,I cant access twitter ,22\\r\\n706,4,@iheartrachael if they have pron pics  woot i want them lol,59\\r\\n707,4,\"Katie is there times when the sun does not shine for you? You are such a happy bunny, its ace \",94\\r\\n708,0,@DanaJeter was he with Rihanna? Liz broke my heart n told me that they are together.  smh....,93\\r\\n709,0,whyyyy me!?!?!....confused... ,30\\r\\n710,4,\"@itsmyjobtoknow LOL, death by diarrhea leg. almost missed that one \",67\\r\\n711,4,Nitro Circus is on tonight ,27\\r\\n712,0,@Tal_and_Aviad Hello from Hong-Kong. It\\'s 32 degrees outside and the Internet connection is too slow for me to listen to your show. ,132\\r\\n713,0,slightly sad moment  no letter...,33\\r\\n714,4,@Scifleet then all the best to Sun-data!   - (IMHO Satur-data sounded much better),82\\r\\n715,0,\"going to my bff\\'s. haha. but thats in like 2 hourssss sooooo...calllll me. actually darn, i have hw \",100\\r\\n716,0,\"omg, the durster is leaving :\\'( noooo. we play tetris! and yoink! im actually very upset \",89\\r\\n717,4,Just came back from a hiphop dance class!! A bit awkward.. But it was kinds fun.. Haha! ,88\\r\\n718,4,at no twit marissas house. ,27\\r\\n719,0,Noooo Yngwie. Why did you make an acoustic album? ,50\\r\\n720,0,\"oprah\\'s been on twitter for a little over 24 hrs &amp; has almost 300,000 followers. i\\'ve been on for a month &amp; only have 15. \",130\\r\\n721,4,finally home what a relaxing night he he ,41\\r\\n722,0,@samalam85 i only need 13K by friday and i am golden. double weak ,66\\r\\n723,0,\"my eyes are hurting sooo bad, but i still need to do more revision for tomorrow\\'s synoptic paper which i\\'m probs gonna fail anyway \",131\\r\\n724,0,@uladee i have only been IN a grocery store a few times in the last year! The shit makes me so frustrated  get food other places...w help!,138\\r\\n725,4,is filling out UPCAT forms  http://plurk.com/p/11d6j5,53\\r\\n726,0,\" cant afford to see Angels and Demons, so i watched it for free: http://tr.im/lvBu\",82\\r\\n727,0,My brain age is 31 today..not a good look. 10 minutes before I have to go back to class. Where I get no signal. ,112\\r\\n728,0,@DrKeokiStarr no I have to get a locksmith  I don\\'t have money for that shit,76\\r\\n729,4,@Jacquies because I\\'m in love with it ,38\\r\\n730,0,Mtg running late. My show will be a little late ,48\\r\\n731,0,\"@rebelgrrrli awww, that about broke my heart, the poor thing! I really feel for your friend, I\\'ve been there \",109\\r\\n732,0,\"Cute little black shoes found. Hating cute little black shoes this morning - while comfortable at the trade show, I have blisters today. \",137\\r\\n733,0,\"@ramdomthoughts yeah, it\\'s going on eBay some time today  I just need more RAM and I\\'m maxed out at 2Gig. Really need 4...\",122\\r\\n734,0,\"I want to go outside and play, but everyone is still sleeping. \",63\\r\\n735,4,Hey Everyone  lol,17\\r\\n736,0,@TheAshleyMarie Awww ,21\\r\\n737,0,Yeurgh! Never drink juice after brushing your teeth ,52\\r\\n738,4,\"@mthompson55 and that\\'s really annoying  been annoyed by that for what, 17 years?\",81\\r\\n739,4,\"@freddurst Thank You Mr. Durst, We did our best... as for me I was waiting for 1999 and Stuck  Anyway you\\'re great, thanks!\",123\\r\\n740,4,with bf ,8\\r\\n741,0,my ipod can stop this restore to factory setting nonsense whenever it wants ,76\\r\\n742,0,Beautiful sun; blue sky; garden beckons  [and window cleaning  ],64\\r\\n743,4,I wish I was sleeping on the floor of a smelly van somewhere that isn\\'t here.. ,79\\r\\n744,0,@kittylecat fair point  I am off now so no intertwit with you sadly  still am digging my racquet out for some swishing practice  x,130\\r\\n745,0,i feel like crap.. getting a cold i think. ,43\\r\\n746,4,@sun_ho Hi sun! that\\'s exciting ,32\\r\\n747,4,\"Thank you, Amanda!  Now I can rest easy tonight.\",48\\r\\n748,0,just found out i\\'m working fathers day from 11 to 3. bummer ,60\\r\\n749,0,\"@TheStevieOs Yes it\\'s herrrrr.  Dude, I\\'m gonna fucking cry.\",60\\r\\n750,4,First tweet via pantech dueoooo ,32\\r\\n751,4,@softtouchme nothing you would be interested in   but feel free to give me new visuals...,89\\r\\n752,4,Haha well in Diversity! They derserved it! ,43\\r\\n753,0,Might cry mom and i at the hospital i might not be able to go to the club tomorow im sorry you guys  i wish i could come tomorow and s ...,138\\r\\n754,4,@walter_polyglot Well the next after his dad anyway. ,53\\r\\n755,4,\"@mistressfauna thanks! This puppy is such an amazing fellow, it\\'s a long road to mend a broken heart,but each day with him = a big smile \",137\\r\\n756,4,\"So, we didn\\'t go to the Union Street Festival, but whatevs.  Today was fun.  I\\'ve missed the girls soo much.  \",110\\r\\n757,0,http://bit.ly/nljMZ This is so sad. And happy. But alot sad. ,61\\r\\n758,0,@AnneKinLA  i\\'m sorry! send my prayers to her,45\\r\\n759,4,\"@feliciaday Cheers on your writing!  Eagerly anticipating good stuff!    Eeep, I\\'ve got 40 days \\'til deadline ... again ...\",123\\r\\n760,0,A(H1N1) at school? Please keep everyone safe. ,46\\r\\n761,4,\"Kung Fu Panda at my room  Or should I say, in OUR room \",55\\r\\n762,0,@mileycyrus http://twitpic.com/6shtr - i can\\'t see it! ,55\\r\\n763,0,@scottemad123 What did I fail? ,31\\r\\n764,0,\"@candyisrad Awww, it\\'ll be ok. Cheer up.  I\\'ll give you some of our bread if you want.\",86\\r\\n765,4,Oyes. I Bet For Adam!  You Guys .. What D\\'yall Think?,53\\r\\n766,0,feelin a little sick....think i\\'m gettin the tummy flu ,55\\r\\n767,4,getting ready to go swimming soon ,34\\r\\n768,0,@crowderband sadly you\\'re not coming to Los angeles ,52\\r\\n769,4,@fendergurl haha well anybody tweeting right now is down with #nightshift ,74\\r\\n770,4,I haven\\'t stepped out of my house in the last 40 hours. I\\'m suffocating.  My soft feathery horny kitty is following me ,119\\r\\n771,4,\"@Real_Business all of them  Mark Pearson, 28 yr old MD of MyVoucherCodes, did ï¿½m\\'s last year, &amp; MD of UK\\'s largest indy online hol co\\'?\",141\\r\\n772,0,@TDLQ i know...still didn\\'t feel good...   i miss him!,54\\r\\n773,4,@jsnowdesigns We are a nice group of peeps to be up with  Have a great day J,76\\r\\n774,0,Giving up on the wget manpage - scrolling several minutes and still haven\\'t found options for recursive and &quot;download all&quot;. Must google ,146\\r\\n775,4,i found zoo tycoon 2! now i\\'m going to play it ,47\\r\\n776,4,am 6/7 weeks pregnant and very tired but happy ,47\\r\\n777,0,I\\'m going out of town so i wont be posting so much ,51\\r\\n778,0,@WithoutMotive do we really have to wait that long ,51\\r\\n779,4,masquerade is thaa best ,24\\r\\n780,4,@forkalicious Pantene is my secret.   How come I never heard from you? ,71\\r\\n781,0,@shanajaca Umm no because we have to do all this shit today soo we put it off for a while  Oh well im going to the mall after sams game!!!,138\\r\\n782,0,its really sunny and im inside with chemistry books  how cool(h),64\\r\\n783,4,@OneGear1972 re: barefeet  i dont know but for some reason i couldnt stop watching..!? thats 2:43 of my life I wont get back!? darn you!! ,138\\r\\n784,4,sims 3 comes out next friday!! ,31\\r\\n785,0,\"I love the sun, but today I got burned really bad \",50\\r\\n786,0,\"I\\'m counting on a new beginning, a reason for living, a deeper meaning ...  \",76\\r\\n787,0,tried to meet @amandapalmer in bathroom confessional.  fail ,60\\r\\n788,0,@NerdIndian Close to 1700 Kms from SION.  . Will opt for something more jaipuri,79\\r\\n789,4,\"@ohkassiadarling I don\\'t know spashley, but maybe miss higgins is making a new one..she\\'s appearing everywhere (I think) \",121\\r\\n790,0,\"afternoon everyone, hate the rain here in Glos today  drip drip drop little April showers! only a month late!\",109\\r\\n791,4,@anissablossom twilighters.org   haha.. &amp; hisgoldeneyes.com  true twilighter &amp; proud of it ,99\\r\\n792,0,\"@jaaayLOVE It\\'s so sad! Kate was all tearing up and everything, but whatever. Lol. But he said that\\'s the REAL him. Poor kiddies \",129\\r\\n793,4,http://tinyurl.com/m3pksa Microsoft \\'Natal\\' - Will this actually work? I will definitely buy 1 if it does!!! ,109\\r\\n794,0,I miss my family ,17\\r\\n795,0,\"@Stevo092 Im sorry, man like i really didn\\'t mean to make you feel upset \",73\\r\\n796,4,\"The only good that can come of this game is penalties with John Terry missing and shattering his foot in the process, and Cashley crying \",137\\r\\n797,4,Was at the cinema with my friend... we\\'ve watched &quot;17 again&quot; .... was soo funny!! ,92\\r\\n798,4,Good food at taste of south jersey! And i got to see amanda!!!!! ,65\\r\\n799,0,20 minutes back in Youngstown and I want to leave!.. And @VBabey5 I am severely hurt I was not invited to this wine fiesta! ,124\\r\\n800,4,\"@MrsSerm  Lol thought you were talking generally.. Go get you sum, hahaha \",74\\r\\n801,4,@hapagal they look really good with black pants ,48\\r\\n802,4,is warming her tootsies in a fire ,34\\r\\n803,4,\"i kind of wish i knew more people on twitter. dinner, meeting, then with patrickk. \",83\\r\\n804,4,@ladyemusic thats what it is im good 2 bay  just checked out ya youtube.. Rihanna betta watch out!,98\\r\\n805,4,i want more follerers how do i get more??? ,43\\r\\n806,4,\"It adds that its my favorite song off the album  Cause, come on. Who HASN\\'T felt that way...\",92\\r\\n807,4,@LisaBroad Have a fun day!!! ,29\\r\\n808,0,home sick and i feel awful ,27\\r\\n809,4,@spaaaam i hope im on the list.  haha,37\\r\\n810,0,could not complete the black squadron command today due to a bacon aversion ,76\\r\\n811,0,Broken hearted...Jon &amp; Kate! They should have quit the show and worked on their marriage!  What to do now?!,111\\r\\n812,0,@ramin987 Noooooooooooooooooooooooo!  I\\'m not here at that time! ,65\\r\\n813,0,Where the hell is the postman?!!?! ,35\\r\\n814,4,\"@katarinaelida Aw, thank you!! \",31\\r\\n815,0,\"Having my daily dose of coffee in preparation for the fellatio of the day. However, I don\\'t anything can prepare me. \",117\\r\\n816,4,Good Morning ,13\\r\\n817,4,sending love to all my new followers...thanks for following me..  hope you all will have an awesome weekend...xox Love &amp; Peace,130\\r\\n818,0,@Clifsoulo LOL i dont like it today  LOL,40\\r\\n819,0,\"@BabyTrixie woke me up at 5am with some baby fu, and now she\\'s back asleep and I\\'m on email \",92\\r\\n820,0,No but seriously.. I think I\\'m dying. AHhhhHHh *cough* ,55\\r\\n821,4,Good morning yall. Full day head topped off by a fun evening tonight. Looking forward to good times w @stkhandi ,112\\r\\n822,4,@perpetualspiral Good Morning. Thank you for the bestest ff  Are you still up?,78\\r\\n823,0,\"I\\'M SO JEALOUS XD XD XD i actually wish i was there too, so badly. \",67\\r\\n824,0,I am really full and quite bored.  Summer started out really dank but is becoming less exciting  although gettin\\' baked yesterday was fun!,138\\r\\n825,4,@ChynaGyrL1980 SWEEET! *cough* bottom dock if im not asking too much *cough*  ,78\\r\\n826,4,\"@Jchawes Jason, your Inn is so beautiful.  Saving my pennies so we can visit sometime.  \",88\\r\\n827,4,im bored....... hangin out with t.a.f. before school ,53\\r\\n828,0,I want to join but i live in michigan ,38\\r\\n829,4,@Tenize and film processing is really cheap at the Lab for the 120 film. ,73\\r\\n830,4,\"http://bit.ly/VwV6H Vote for @tommcfly, @TomFelton, @dannymcfly and @dougiemcfly  ONLY! Please? \",96\\r\\n831,4,back from the gym + swimming. felt so good!! ahhh.  and the sun is shining every now and then.,94\\r\\n832,0,last.fm won\\'t let me listen to anymore music ,45\\r\\n833,4,@thestuntdude are u following me? if not u should be ,53\\r\\n834,4,FULFILLING DAY. mmmmm... ,25\\r\\n835,0,\"@Pixie_Tinks Haha. I\\'d have to go with any of the Gossip Girl men tbh, but that\\'s lucky for you to spot! There are no hot guys at home. \",136\\r\\n836,4,@victorKa that\\'s where i\\'m going right now ,43\\r\\n837,4,@mileycyrus I love you so much you are incredible  you are everything I wouldnt want to be and more it is insane !,114\\r\\n838,4,loves @knocom! Yay for giving me THAT ingredient to Level 10 my 2nd dish! Whoooo!  http://plurk.com/p/wh5gy,107\\r\\n839,0,\"@g4tv Batman: Arkham Asylum, but I don\\'t own a system that will play it, sadness \",81\\r\\n840,0,Is bummed/surprised/Iritated that one of my fav starbucks closed. ,66\\r\\n841,0,\"Housework makes Michael a dull (and potentially violent) boy, could really do with a game of cod4  but Matt is on the way! awesome!\",131\\r\\n842,4,@uberdragon That is pretty fun. I did two and now must get back to things ,74\\r\\n843,0,ugh noooo ,10\\r\\n844,0,why is it the older i\\'m getting the longer i need to get over things 2 nights with no sleep never used to bother me.. ,118\\r\\n845,4,\"Starting my internship today, pretty excited! \",46\\r\\n846,4,Welcome NEW folloewrs. Thanks and see you around. Keep updated. ,64\\r\\n847,4,\"#followfriday @LexamusPrime in return, and \\'cause he has the good taste and judgement to only follow real people. \",114\\r\\n848,4,going flying and picking up robot stuff ,40\\r\\n849,0,RIP Farrah Fawcett... a heartbreaking story... She is finally at peace now ,75\\r\\n850,4,@the_nikster Awe!  Thank you! @PaulThaAsian &amp; @Caseem uhm.. thanks? @DJTLaC You\\'re such a sweet heart!  &lt;3 ily!,118\\r\\n851,0,\"@Tootsiemr Don\\'t that alway happen, at least that how it feel. \",63\\r\\n852,0,\"Overwhelming anxiety about laika dog. Peed on bed, having obsessive licking issues, losing hair. WTF. \",102\\r\\n853,4,@tinhet Hey you      It surprisingly didn\\'t hurt that much..as for your foot...I don\\'t know,91\\r\\n854,4,@eleighdubs tonights game as in..#magic #cavs? ,47\\r\\n855,0,math final ,11\\r\\n856,4,@ridney yeah jolly good luck with that Rippblock ,49\\r\\n857,4,Because i fell in love with the girl at the rock show. She said \\'\\'what?\\'\\' and i told her that i didnt know.  ,109\\r\\n858,0,Well it\\'s stopped raining. Luvly lunch. Shame I was sick after  Think the irish coffee was a step too far!,106\\r\\n859,0,But a less than encouraging evaluation of Google App Engine ,60\\r\\n860,4,@seanthigpen http://twitpic.com/12a89 - Looks like someone needs to throw another 1TB in the Drobo oven ,104\\r\\n861,0,\"@vani_k i agree vani...its so disgusting, and ppl just sit and watch \",69\\r\\n862,4,FINALY! It\\'s going to be sunny next week. ;D Can\\'t wait.  PPP,61\\r\\n863,0,@MissFarrah Very nice!!! U r a pretty young lady! But I\\'m no loser tho...&quot;holding up the L like that&quot;  LOL!,117\\r\\n864,0,Have a bad head cold ,21\\r\\n865,4,stuck in bed waiting for my hubby to wake up. Long day of shopping ahead. ,74\\r\\n866,0,\"goodbye my almost lover, goodbye my hopeless dream, i gotta go to school now. \",78\\r\\n867,4,Upload New Portfolio ,21\\r\\n868,0,@daniellemhicks I know. such a cutie even when crying.  ,56\\r\\n869,4,WE GRADUATED TODAY!!! C/09!! ,29\\r\\n870,4,\"@thesearchguy - &quot;With him, it\\'ll be more about the charisma&quot; \",71\\r\\n871,4,http://twitpic.com/4xak1 - It\\'s miracle!!! how beautiful rainbow ,65\\r\\n872,4,@Lkmcn1 The Omen ,17\\r\\n873,0,\"it stays warm and sunny and no rain, hate that, all week nice and warm then bloody rain for a wkend, bet that happens \",118\\r\\n874,0,I miss seeing my friends every day but i guess it\\'s time for me to see new people  fun,86\\r\\n875,4,i love the sound of far away thunder ,37\\r\\n876,0,What an insanely busy day! I\\'m not tired though ,48\\r\\n877,0,I always feel really bad when I sleep past 11 ,46\\r\\n878,4,Night at the museum 2! ,23\\r\\n879,0,@imsucks ezine is all about getting links nowadays. It used to be about authors as you point out. Everythings manipulated for links now. ,137\\r\\n880,0,I got a full eight hours of sleep lastnight. I didn\\'t even know that much sleep was allowed my industry  now watching Sunday cartoons....,137\\r\\n881,0,true fact of life : i fucking cried in Chapter 30 when edward said &quot;I thought that candles were romantic.&quot; because of what happened. ,143\\r\\n882,0,@_micahlyn I am dying! I didn\\'t watch last week\\'s episode yet. ,63\\r\\n883,4,@OrchidThieves hopefully! cool.. dedicate a song to me?  i love the energy and emotion of live music. i\\'ll probably watch a movie tonight.,138\\r\\n884,0,Not well at all ,16\\r\\n885,4,this weather is doing wonders for my mood ,42\\r\\n886,0,\"I have a Celine Dion song stuck in my head.    That statement is sort of a summary of how things have gone today.  Okay, not THAT bad. O:/\",138\\r\\n887,4,I feel loads better right now  managed not to get too upset this morning..,74\\r\\n888,0,No one i work for is here! Good thing this is a half day. ,58\\r\\n889,0,Its been sort of a slow week in some ways. I just want it to be friday   soon enough,84\\r\\n890,4,@DesmoidSurvivor Ah! Thats more like it!  Now I know you.,57\\r\\n891,4,\"riverfest later today !! xD  gonna hang with megan, maxine, and taylor . \",73\\r\\n892,4,@DonnieWahlberg hey ddub! what happened with the logo contest?  results? or did u mk an online gallery of the artwork?  do tell ,128\\r\\n893,4,\"There\\'s only ONE way, TWO say, those THREE words and thats what I\\'ll do.. I Love You!  .\",88\\r\\n894,0,No one came to visit ,21\\r\\n895,4,@philipplomboy Youre a hard worker Philipp! I\\'m looking forward to being with you at Necker Island in Oct. You\\'re hard work will pay off! ,138\\r\\n896,4,\"@Tom_Zegan Ah, ty Tom, think maybe you need to put US cos it didn\\'t show in my results and with the amount of scammers about it may help \",137\\r\\n897,4,\"@jonuts There was definitely a romance about the time.. cool games, crappy music that /seemed/ cool then.. \",107\\r\\n898,4,@masterballerina yess  you?,27\\r\\n899,0,\"@jighooligan hahaha yeah, that MGS Raiden anounce sucked! for PS3 \",66\\r\\n900,4,\"@y2jenn awesome to see you around here, Jenn!  and I think Billy Mays would win that fight. He owns the infomercial world.\",122\\r\\n901,0,@AlanCarr well i\\'m never one to pass up a dare but i can\\'t get through on that fone number ,91\\r\\n902,0,Ahhhhhh my eye  stupid lil lense SCREW U !!,43\\r\\n903,4,Watching the storm from the porch with Brad ,44\\r\\n904,4,@Oh_My_Gosh yeah! it was so simple. We suck ,44\\r\\n905,4,Headed to @halfacrebrew for a  tour and hopefully we won\\'t break  shit...  http://bmap.us/9906,94\\r\\n906,4,\"@masterConjurer: Try Ubuntu, Linux beats Windows any day \",57\\r\\n907,4,\"should not still be awake, but whatev. \",39\\r\\n908,4,Two days left till my NYC trip ,31\\r\\n909,0,Would give anything to be at silverstone than stuck at work ,60\\r\\n910,0,Soo tired... Ugh pain.. ,24\\r\\n911,4,@kyleblake Happy Birthday! You rock! ,37\\r\\n912,4,http://twitpic.com/7jaqm - my hair cooperated today!  also this is what i will look like when i hopefully get laser eye surgery.  ,130\\r\\n913,0, ever feel left out of everything going on in the world? Like you didn\\'t have a person that would go to your shows or support you?,130\\r\\n914,4,\"@jonobacon Man, that really sucks. I miss my wife during the day when I\\'m in the office ....Hold on there \",106\\r\\n915,4,\"@lovelylildeer They look great, thanks! I will keep one for my customer gallery  xoxo\",85\\r\\n916,4,wish i could take a nap in a hammock.  Jon- cant we install one in our apartment?,81\\r\\n917,4,\"@ddlovato Go Demi ! You\\'re on trending topics ;)! â\\x99¥ Please come to Finland  I love you and just gotta say your albums cover, wow, amazing.\",140\\r\\n918,0,Curse Karoo\\'s usage limit! I want to stream ALL E3 stuff NOW! But then I\\'ll probably have to pay ,97\\r\\n919,4,@UmbroTX thank you ,19\\r\\n920,0,\"he is sick, now i\\'m getting worry about him \",44\\r\\n921,0,@punkphoto it is 18+ come so im not alone! i have a +1 and no one to take ,74\\r\\n922,0,@WhedonFanNews Sydner isn\\'t on there?  Real life people are more scary then monster ones--FAAA!,95\\r\\n923,4,had a lovely weekend with @performeradams and the girlies about to get my uni results  how exciting!!!,102\\r\\n924,0,\"Also, Clint totaled his mandolin. \",34\\r\\n925,0,Bella ragazza  wants nothing 2 do with me like before,53\\r\\n926,0,\"@ashleytisdale i wish i could! but i live in rochester, ny....  by the way, i cherish masquerade and pls pls tell me its the second single\",138\\r\\n927,4,i love multiple tweeting!!  randomness....,42\\r\\n928,4,@nickhomer haha we\\'ll see  got to get my outfit!,48\\r\\n929,0,@greggarbo http://twitpic.com/6sjsn - I didnt unterstand  lol,61\\r\\n930,4,Tweet tweet tweet. Watching yiur generation. ,45\\r\\n931,4,@robinantinpcd I AGREE! I am currently listening to it these girls are fire. Canada will love them ,99\\r\\n932,0,\"@Chelseajordan8 I didn\\'t want to leave but had no choice. I can\\'t do two internships, a part time job, and take care of a sick puppy. \",134\\r\\n933,0,wishh i was back at school right now ,37\\r\\n934,0,my nose is melting. ,20\\r\\n935,4,@RussellBfan90 nuhh i dnt lol sorry  i never used to go on this thing much so i havent really gotten round to it yet ,117\\r\\n936,0,sam in the bottom two of masterchef ,36\\r\\n937,4,\"fun night of mojitos and theology. and in the morning, at least your hangover will have some religiosity to it (jk \",115\\r\\n938,0,@msibathadiva   I know.,23\\r\\n939,4,@BostonBookGirl say hi to all the Dutch runners ,48\\r\\n940,0,@triplehark no MY rat ... have some compassion ,47\\r\\n941,0,@ chilis waiting for rosee she leaves wednesday ,48\\r\\n942,0,@netcitizen is it? a fellow who recommended my name for #followfriday. Never occurred he could be a bot ,104\\r\\n943,0,\"Welcome home a Vietnam Vet just walk on up put out your hand to shake, and say Welcome Home They never got that  #honorvets\",123\\r\\n944,0,\"@NickkkJonasss Thats suckss for mee!  Im always lateee. First late by 10 minutes to watch you guys on JustinTV, and now this. SOO SAD ):\",136\\r\\n945,0,@keithprivette aw it doesn\\'t DVR... It\\'s online only at http://foxnews.com/strategyroom Sorry  It streams only only.,116\\r\\n946,4,is feeling good   thanks to a GREAT bff\\'s motivation and support!!,66\\r\\n947,0,@alneeZy soo.....i miss u...      just thought id let u kno,59\\r\\n948,4,Hey @souljaboytellem sonqz cominq too damee ; im in there  haha  (#souljaboytellem live &gt; http://ustre.am/2UhS),114\\r\\n949,4, ok twitter world we r bacK online!!!!,38\\r\\n950,4,@KBXX979TheBox LOL Whoa I Appreciate That..!! ,46\\r\\n951,0,@anachan It\\'s not even bad enough to be funny ,46\\r\\n952,0,\"been crying for about 30 minutes now. i found a promising acting biz, BUT THEY SAID NO CUZ I HAVE BROWN EYES! it wasnt fair! :\\'(  :\\'(!!!!\",137\\r\\n953,4,@jakuba16 that\\'s hell! I love every single one of those bands! Ps I got new earphones today mom got them 4me  thnx anyway xD,124\\r\\n954,0,@Cassandroar  its not happening for me either!  buh im ill! Whats your excuse! haha x,85\\r\\n955,0,I have to work until 7 or so. You jies might have to go without me ,67\\r\\n956,4,\"@guykawasaki ah yes I remember now, I thought as much. \",55\\r\\n957,0,\"I need to get off my ass (or, technically, on my ass) and start a new story. I need ideas first, though. Help me,  Idea Fairy! \",127\\r\\n958,0,\"soo i just found out that , 2009  to 2010 school year is starting a week and a day early becuase of all the snow days this school year \",135\\r\\n959,0,. . .And I don\\'t get alone with that kind of stuff ,51\\r\\n960,4,i have issues ,14\\r\\n961,4,\"It\\'s gorgeous outside! ? Actually got an amazing sleep &amp; feel fantastic!  To-Do: Fix torn tutu dresses, Get Passport. Let\\'s do something~\",141\\r\\n962,4,@kriswak I wish I could. *sigh* Have fun! ,42\\r\\n963,4,@gotCJ My pleasure ,19\\r\\n964,4,@scodal Had a couple of really tall guys take me all the way up front.  I have a bad back as it is and got the crap knocked out of me ,134\\r\\n965,0,\"alyssa, you made my couch smell like old lady \",46\\r\\n966,0,i am sure India will not stand against south africa.....India will loose todays match ,86\\r\\n967,4,@Tanya_Malice what list? Where r u? Make me a sandwitch ,56\\r\\n968,0,feel like crying ,17\\r\\n969,0,had a busy Saturday morning..now I don\\'t feel well na..   time to get some sleep. Hopefully I\\'d  feel better  later...,118\\r\\n970,0,\"@shwS make your Internets work please... I finally have a decent connection and haven\\'t talked to you in a week   Also, nice article\",132\\r\\n971,0,@Lajefa17 wish you were here to go ,35\\r\\n972,0,@MiChA3LdAc7 sorry that you have to see the Yankees play  lol. Jk,65\\r\\n973,4,@taylorswiftt Hay Tay it feels like i haven\\'t talked to you in forever so whats up ,83\\r\\n974,4,Shopping. People at fashion valley are rude. Lets go somewhere else now! ,73\\r\\n975,4,@msax22 Out of morbid curiosity were you sending the &quot;press release machine&quot; tweet to anyone in particular? Or just citing truth for all? ,148\\r\\n976,0,Wake up and can barely walk  its gonna b a limp I\\'m mean long day...boo I got to run errands allday but this is gonna b a great day!!!,134\\r\\n977,4,Marley &amp; Me is a very sad movie. Well atleast in the end. You have to see it! ,82\\r\\n978,0,\"I\\'m up early, I wish I was going to bamboozle! \",47\\r\\n979,0,@Sheald ive never had a successful ride/run with the iphone mapmyrun or runkingpro or whatever it is.  always stops detecting where i am ,137\\r\\n980,4,@thismaycy  Haha!..I know. Long time huh? I\\'ve been on the road. You know I\\'m a rockstar. ,90\\r\\n981,4,Nighty night Twits! Tty in the morning... ,42\\r\\n982,4,Getting ready to go to tanforan with my boyfriend and family. Gotta go birthday shopping for the twinsies ,106\\r\\n983,4,@Ms_She i knew u did!! ,23\\r\\n984,4,\"@TessaDare I\\'d go with on to instead of onto...emphasizing &quot;holding on&quot;. JMHO, though. \",97\\r\\n985,0,Bit fed up  just wanna be on my holidays now!,45\\r\\n986,4,@simonlawry  v/funny re: \\'marry in\\' comment !! no need to marry in - \\'man love\\' is recognised  ahaha I couldn\\'t resist!,119\\r\\n987,4,\"@imfreddiemac okaay.Because you said wait,ima continue to chillax in my bed. \",77\\r\\n988,0,\"DC metro trains collide, the scene is pretty sad, at least one person killed... So sad hope everyone else is safe \",114\\r\\n989,0,god i cant even catch public transport. swine flu is shit house ,64\\r\\n990,0,is ignoring the critics\\'-review on the upcoming Transformers 2    http://tinyurl.com/kvnqv9,91\\r\\n991,0,Is very upset at the moment ,28\\r\\n992,0,\"At the mall. Got a haircut, no luck gettin an iPhone. Last attempt at Apple was unsucessful. Boo. \",98\\r\\n993,0,\"Casey likes her new chair I got her today, she is taking a nap in it. Yup spending money \",89\\r\\n994,0,Ew. Waking up in the afternoon feels so grimy ,46\\r\\n995,0,how sad !!!!!  rip md,21\\r\\n996,4,\"Going to school for the first time in two weeks. Don\\'t really know if I should laugh of cry, haha. At least the sun is shining \",127\\r\\n997,4,@criscokid google it  hehe,26\\r\\n998,0,@Agent_Rainbow CHA like not never seeing sarah ,47\\r\\n999,4,\"@davedays i heard one of your songs, and you have an amazing voice  i was stunned\",81\\r\\n'"
      ]
     },
     "execution_count": 103,
     "metadata": {},
     "output_type": "execute_result"
    }
   ],
   "source": [
    "df.iloc[0:1000, :].to_csv()"
   ]
  },
  {
   "cell_type": "markdown",
   "metadata": {},
   "source": [
    " count the number of sentiments with respect to their tweet (4 stands for positive tweet and 0 stands for negative tweet)"
   ]
  },
  {
   "cell_type": "code",
   "execution_count": 87,
   "metadata": {},
   "outputs": [
    {
     "data": {
      "text/plain": [
       "4    800000\n",
       "0    800000\n",
       "Name: sentiment, dtype: int64"
      ]
     },
     "execution_count": 87,
     "metadata": {},
     "output_type": "execute_result"
    }
   ],
   "source": [
    "df.sentiment.value_counts()"
   ]
  },
  {
   "cell_type": "markdown",
   "metadata": {},
   "source": [
    "\n",
    "\n",
    "\n",
    "\n",
    "\n",
    "\n",
    "\n",
    "\n",
    "\n",
    "\n",
    "\n",
    "# Cleaning data"
   ]
  },
  {
   "cell_type": "markdown",
   "metadata": {},
   "source": [
    "add new column pre_clean_len to dataframe which is length of each tweet"
   ]
  },
  {
   "cell_type": "code",
   "execution_count": 88,
   "metadata": {},
   "outputs": [],
   "source": [
    "df['pre_clean_len'] = [len(t) for t in df.text]"
   ]
  },
  {
   "cell_type": "markdown",
   "metadata": {},
   "source": [
    "Finding outliers using Box plot using pre_clean_len column"
   ]
  },
  {
   "cell_type": "code",
   "execution_count": 89,
   "metadata": {},
   "outputs": [
    {
     "data": {
      "image/png": "[encoded data removed]",
      "text/plain": [
       "<Figure size 432x288 with 1 Axes>"
      ]
     },
     "metadata": {
      "needs_background": "light"
     },
     "output_type": "display_data"
    }
   ],
   "source": [
    "plt.boxplot(df.pre_clean_len)\n",
    "plt.show()"
   ]
  },
  {
   "cell_type": "markdown",
   "metadata": {},
   "source": [
    "check for any tweets greater than 140 characters"
   ]
  },
  {
   "cell_type": "code",
   "execution_count": 90,
   "metadata": {},
   "outputs": [
    {
     "data": {
      "text/html": [
       "<div>\n",
       "<style scoped>\n",
       "    .dataframe tbody tr th:only-of-type {\n",
       "        vertical-align: middle;\n",
       "    }\n",
       "\n",
       "    .dataframe tbody tr th {\n",
       "        vertical-align: top;\n",
       "    }\n",
       "\n",
       "    .dataframe thead th {\n",
       "        text-align: right;\n",
       "    }\n",
       "</style>\n",
       "<table border=\"1\" class=\"dataframe\">\n",
       "  <thead>\n",
       "    <tr style=\"text-align: right;\">\n",
       "      <th></th>\n",
       "      <th>sentiment</th>\n",
       "      <th>text</th>\n",
       "      <th>pre_clean_len</th>\n",
       "    </tr>\n",
       "  </thead>\n",
       "  <tbody>\n",
       "    <tr>\n",
       "      <th>8</th>\n",
       "      <td>0</td>\n",
       "      <td>Herpes be gone! Bet quote of the night, &amp;quot;...</td>\n",
       "      <td>145</td>\n",
       "    </tr>\n",
       "    <tr>\n",
       "      <th>81</th>\n",
       "      <td>0</td>\n",
       "      <td>@DivaJulia - Yeah, stick to the book with &amp;quo...</td>\n",
       "      <td>144</td>\n",
       "    </tr>\n",
       "    <tr>\n",
       "      <th>137</th>\n",
       "      <td>4</td>\n",
       "      <td>I don't want all the people I'm following to f...</td>\n",
       "      <td>145</td>\n",
       "    </tr>\n",
       "    <tr>\n",
       "      <th>167</th>\n",
       "      <td>0</td>\n",
       "      <td>ive waited for so long to experience marching&amp;...</td>\n",
       "      <td>154</td>\n",
       "    </tr>\n",
       "    <tr>\n",
       "      <th>280</th>\n",
       "      <td>0</td>\n",
       "      <td>Am about to do the &amp;quot;parents returning hom...</td>\n",
       "      <td>146</td>\n",
       "    </tr>\n",
       "    <tr>\n",
       "      <th>603</th>\n",
       "      <td>4</td>\n",
       "      <td>Just launched the new Wacky Wednesday Sale. Ea...</td>\n",
       "      <td>146</td>\n",
       "    </tr>\n",
       "    <tr>\n",
       "      <th>641</th>\n",
       "      <td>4</td>\n",
       "      <td>Ð?Ð° ÑÐ°Ð±Ð¾ÑÐµ Ð¿Ð¾Ñ?ÑÐ°Ð²Ð¸Ð»Ð¸ Ñ?Ð²Ð¾Ð¹ ...</td>\n",
       "      <td>180</td>\n",
       "    </tr>\n",
       "    <tr>\n",
       "      <th>690</th>\n",
       "      <td>4</td>\n",
       "      <td>TALKiNG 2 HiM  DAMN i LUV RELATiONSHiPS iN THE...</td>\n",
       "      <td>142</td>\n",
       "    </tr>\n",
       "    <tr>\n",
       "      <th>771</th>\n",
       "      <td>4</td>\n",
       "      <td>@Real_Business all of them  Mark Pearson, 28 y...</td>\n",
       "      <td>141</td>\n",
       "    </tr>\n",
       "    <tr>\n",
       "      <th>774</th>\n",
       "      <td>0</td>\n",
       "      <td>Giving up on the wget manpage - scrolling seve...</td>\n",
       "      <td>146</td>\n",
       "    </tr>\n",
       "  </tbody>\n",
       "</table>\n",
       "</div>"
      ],
      "text/plain": [
       "     sentiment                                               text  \\\n",
       "8            0  Herpes be gone! Bet quote of the night, &quot;...   \n",
       "81           0  @DivaJulia - Yeah, stick to the book with &quo...   \n",
       "137          4  I don't want all the people I'm following to f...   \n",
       "167          0  ive waited for so long to experience marching&...   \n",
       "280          0  Am about to do the &quot;parents returning hom...   \n",
       "603          4  Just launched the new Wacky Wednesday Sale. Ea...   \n",
       "641          4  Ð?Ð° ÑÐ°Ð±Ð¾ÑÐµ Ð¿Ð¾Ñ?ÑÐ°Ð²Ð¸Ð»Ð¸ Ñ?Ð²Ð¾Ð¹ ...   \n",
       "690          4  TALKiNG 2 HiM  DAMN i LUV RELATiONSHiPS iN THE...   \n",
       "771          4  @Real_Business all of them  Mark Pearson, 28 y...   \n",
       "774          0  Giving up on the wget manpage - scrolling seve...   \n",
       "\n",
       "     pre_clean_len  \n",
       "8              145  \n",
       "81             144  \n",
       "137            145  \n",
       "167            154  \n",
       "280            146  \n",
       "603            146  \n",
       "641            180  \n",
       "690            142  \n",
       "771            141  \n",
       "774            146  "
      ]
     },
     "execution_count": 90,
     "metadata": {},
     "output_type": "execute_result"
    }
   ],
   "source": [
    "df[df.pre_clean_len > 140].head(10) "
   ]
  },
  {
   "cell_type": "markdown",
   "metadata": {},
   "source": [
    "At this stage, if you want you could remove these outlier tweets"
   ]
  },
  {
   "cell_type": "markdown",
   "metadata": {},
   "source": [
    "# Cleaning operations"
   ]
  },
  {
   "cell_type": "markdown",
   "metadata": {},
   "source": [
    "#Importing beautiful soup\n",
    "#remove @ mentions from tweets\n",
    "#remove URLs from tweets\n",
    "#converting words like isn't to is not\n",
    "#get only text from the tweets \n",
    "#remove utf-8-sig code\n",
    "#converting all into lower case\n",
    "#will replace non-alphabetic characters by space\n",
    "#Word Punct Tokenize and only consider words whose length is greater than 1\n",
    "#join the words"
   ]
  },
  {
   "cell_type": "code",
   "execution_count": 91,
   "metadata": {},
   "outputs": [],
   "source": [
    "import re\n",
    "from bs4 import BeautifulSoup\n",
    "from nltk.tokenize import WordPunctTokenizer\n",
    "tok = WordPunctTokenizer()\n",
    "\n",
    "pat1 = r'@[A-Za-z0-9_]+'        # remove @ mentions from tweets\n",
    "pat2 = r'https?://[^ ]+'        # remove URLs from tweets\n",
    "combined_pat = r'|'.join((pat1, pat2)) #addition of pat1 and pat2\n",
    "www_pat = r'www.[^ ]+'         # remove URLs from tweets\n",
    "negations_dic = {\"isn't\":\"is not\", \"aren't\":\"are not\", \"wasn't\":\"was not\", \"weren't\":\"were not\",   # converting words like isn't to is not\n",
    "                \"haven't\":\"have not\",\"hasn't\":\"has not\",\"hadn't\":\"had not\",\"won't\":\"will not\",\n",
    "                \"wouldn't\":\"would not\", \"don't\":\"do not\", \"doesn't\":\"does not\",\"didn't\":\"did not\",\n",
    "                \"can't\":\"can not\",\"couldn't\":\"could not\",\"shouldn't\":\"should not\",\"mightn't\":\"might not\",\n",
    "                \"mustn't\":\"must not\"}\n",
    "neg_pattern = re.compile(r'\\b(' + '|'.join(negations_dic.keys()) + r')\\b')\n",
    "\n",
    "def tweet_cleaner(text):  # define tweet_cleaner function to clean the tweets\n",
    "    soup = BeautifulSoup(text, 'lxml')    # create beautiful soup object\n",
    "    souped = soup.get_text()   # get only text from the tweets \n",
    "    try:\n",
    "        bom_removed = souped.decode(\"utf-8-sig\").replace(u\"\\ufffd\", \"?\")    # remove utf-8-sig code\n",
    "    except:\n",
    "        bom_removed = souped\n",
    "    stripped = re.sub(combined_pat, '', bom_removed) # calling combined_pat\n",
    "    stripped = re.sub(www_pat, '', stripped) #remove URLs\n",
    "    lower_case = stripped.lower()      # converting all into lower case\n",
    "    neg_handled = neg_pattern.sub(lambda x: negations_dic[x.group()], lower_case) # converting words like isn't to is not\n",
    "    letters_only = re.sub(\"[^a-zA-Z]\", \" \", neg_handled)       # will replace # by space\n",
    "    words = [x for x  in tok.tokenize(letters_only) if len(x) > 1] # Word Punct Tokenize and only consider words whose length is greater than 1\n",
    "    return (\" \".join(words)).strip() # join the words"
   ]
  },
  {
   "cell_type": "code",
   "execution_count": 92,
   "metadata": {
    "scrolled": true
   },
   "outputs": [
    {
     "name": "stdout",
     "output_type": "stream",
     "text": [
      "0 11.704038143157959\n",
      "10000 28.464531421661377\n",
      "20000 43.355791330337524\n",
      "30000 57.885940074920654\n",
      "40000 72.7007806301117\n"
     ]
    }
   ],
   "source": [
    "#Note that we have 1600000 instances. But processing so many instances will take a very very long time.\n",
    "#Hence, restricting to rather 50000 instances.\n",
    "limit=50000\n",
    "import time; \n",
    "ms = time.time()\n",
    "#nums = [0,400000,800000,1200000,1600000] # used for batch processing tweets\n",
    "#nums = [0, 9999]\n",
    "clean_tweet_texts = [] # initialize list\n",
    "for i in range(0,limit): # batch process 1.6 million tweets \n",
    "    if i % 10000==0:\n",
    "        print(i, time.time()-ms)\n",
    "    clean_tweet_texts.append(tweet_cleaner(df['text'][i]))  # call tweet_cleaner function and pass parameter as all the tweets to clean the tweets and append cleaned tweets into clean_tweet_texts list"
   ]
  },
  {
   "cell_type": "markdown",
   "metadata": {},
   "source": [
    "# clean_tweet_texts"
   ]
  },
  {
   "cell_type": "code",
   "execution_count": 93,
   "metadata": {},
   "outputs": [
    {
     "name": "stderr",
     "output_type": "stream",
     "text": [
      "[nltk_data] Downloading package punkt to\n",
      "[nltk_data]     C:\\Users\\user\\AppData\\Roaming\\nltk_data...\n",
      "[nltk_data]   Package punkt is already up-to-date!\n"
     ]
    },
    {
     "data": {
      "text/plain": [
       "True"
      ]
     },
     "execution_count": 93,
     "metadata": {},
     "output_type": "execute_result"
    }
   ],
   "source": [
    "nltk.download('punkt')"
   ]
  },
  {
   "cell_type": "markdown",
   "metadata": {},
   "source": [
    "tokenize word in clean_tweet_texts and append it to word_tokens list"
   ]
  },
  {
   "cell_type": "code",
   "execution_count": 94,
   "metadata": {},
   "outputs": [],
   "source": [
    "word_tokens = [] # initialize list for tokens\n",
    "for word in clean_tweet_texts:  # for each word in clean_tweet_texts\n",
    "    word_tokens.append(word_tokenize(word)) #tokenize word in clean_tweet_texts and append it to word_tokens list"
   ]
  },
  {
   "cell_type": "markdown",
   "metadata": {},
   "source": [
    "# Lemmatizing"
   ]
  },
  {
   "cell_type": "code",
   "execution_count": 95,
   "metadata": {},
   "outputs": [
    {
     "name": "stderr",
     "output_type": "stream",
     "text": [
      "[nltk_data] Downloading package wordnet to\n",
      "[nltk_data]     C:\\Users\\user\\AppData\\Roaming\\nltk_data...\n",
      "[nltk_data]   Package wordnet is already up-to-date!\n"
     ]
    },
    {
     "data": {
      "text/plain": [
       "True"
      ]
     },
     "execution_count": 95,
     "metadata": {},
     "output_type": "execute_result"
    }
   ],
   "source": [
    "nltk.download('wordnet')"
   ]
  },
  {
   "cell_type": "code",
   "execution_count": 96,
   "metadata": {},
   "outputs": [],
   "source": [
    "df1 = [] # initialize list df1 to store words after lemmatization\n",
    "from nltk.stem import WordNetLemmatizer # import WordNetLemmatizer from nltk.stem\n",
    "lemmatizer = WordNetLemmatizer() # create an object of WordNetLemmatizer\n",
    "for l in word_tokens: # for loop for every tokens in word_token\n",
    "    b = [lemmatizer.lemmatize(q) for q in l] #for every tokens in word_token lemmatize word and giev it to b\n",
    "    df1.append(b) #append b to list df1"
   ]
  },
  {
   "cell_type": "markdown",
   "metadata": {},
   "source": [
    "# df"
   ]
  },
  {
   "cell_type": "code",
   "execution_count": 97,
   "metadata": {},
   "outputs": [],
   "source": [
    "clean_df1 =[] # initialize list clean_df1 to join word tokens after lemmatization\n",
    "for c in df1:  # for loop for each list in df1\n",
    "    a = \" \".join(c) # join words in list with space in between and give it to a\n",
    "    clean_df1.append(a) # append a to clean_df1"
   ]
  },
  {
   "cell_type": "markdown",
   "metadata": {},
   "source": [
    "# clean_df1"
   ]
  },
  {
   "cell_type": "markdown",
   "metadata": {},
   "source": [
    "convert clean_tweet_texts into dataframe and name it as clean_df"
   ]
  },
  {
   "cell_type": "code",
   "execution_count": 98,
   "metadata": {},
   "outputs": [],
   "source": [
    "clean_df = pd.DataFrame(clean_df1,columns=['text']) # convert clean_tweet_texts into dataframe and name it as clean_df\n",
    "#clean_df['target'] = df.sentiment[:10000] # from earlier dataframe get the sentiments of each tweet and make a new column in clean_df as target and give it all the sentiment score\n",
    "#clean_df"
   ]
  },
  {
   "cell_type": "code",
   "execution_count": 99,
   "metadata": {},
   "outputs": [],
   "source": [
    "clean_df['clean_len'] = [len(t) for t in clean_df.text] # Again make a new coloumn in the dataframe and name it as clean_len which "
   ]
  },
  {
   "cell_type": "code",
   "execution_count": 100,
   "metadata": {},
   "outputs": [
    {
     "data": {
      "text/html": [
       "<div>\n",
       "<style scoped>\n",
       "    .dataframe tbody tr th:only-of-type {\n",
       "        vertical-align: middle;\n",
       "    }\n",
       "\n",
       "    .dataframe tbody tr th {\n",
       "        vertical-align: top;\n",
       "    }\n",
       "\n",
       "    .dataframe thead th {\n",
       "        text-align: right;\n",
       "    }\n",
       "</style>\n",
       "<table border=\"1\" class=\"dataframe\">\n",
       "  <thead>\n",
       "    <tr style=\"text-align: right;\">\n",
       "      <th></th>\n",
       "      <th>text</th>\n",
       "      <th>clean_len</th>\n",
       "    </tr>\n",
       "  </thead>\n",
       "  <tbody>\n",
       "  </tbody>\n",
       "</table>\n",
       "</div>"
      ],
      "text/plain": [
       "Empty DataFrame\n",
       "Columns: [text, clean_len]\n",
       "Index: []"
      ]
     },
     "execution_count": 100,
     "metadata": {},
     "output_type": "execute_result"
    }
   ],
   "source": [
    "clean_df[clean_df.clean_len > 140].head(10) # again check if any tweet is more than 140 characters"
   ]
  },
  {
   "cell_type": "code",
   "execution_count": 70,
   "metadata": {},
   "outputs": [
    {
     "ename": "KeyError",
     "evalue": "'sentiment'",
     "output_type": "error",
     "traceback": [
      "\u001b[1;31m---------------------------------------------------------------------------\u001b[0m",
      "\u001b[1;31mKeyError\u001b[0m                                  Traceback (most recent call last)",
      "\u001b[1;32mD:\\Users\\user\\anaconda3\\lib\\site-packages\\pandas\\core\\indexes\\base.py\u001b[0m in \u001b[0;36mget_loc\u001b[1;34m(self, key, method, tolerance)\u001b[0m\n\u001b[0;32m   2645\u001b[0m             \u001b[1;32mtry\u001b[0m\u001b[1;33m:\u001b[0m\u001b[1;33m\u001b[0m\u001b[1;33m\u001b[0m\u001b[0m\n\u001b[1;32m-> 2646\u001b[1;33m                 \u001b[1;32mreturn\u001b[0m \u001b[0mself\u001b[0m\u001b[1;33m.\u001b[0m\u001b[0m_engine\u001b[0m\u001b[1;33m.\u001b[0m\u001b[0mget_loc\u001b[0m\u001b[1;33m(\u001b[0m\u001b[0mkey\u001b[0m\u001b[1;33m)\u001b[0m\u001b[1;33m\u001b[0m\u001b[1;33m\u001b[0m\u001b[0m\n\u001b[0m\u001b[0;32m   2647\u001b[0m             \u001b[1;32mexcept\u001b[0m \u001b[0mKeyError\u001b[0m\u001b[1;33m:\u001b[0m\u001b[1;33m\u001b[0m\u001b[1;33m\u001b[0m\u001b[0m\n",
      "\u001b[1;32mpandas\\_libs\\index.pyx\u001b[0m in \u001b[0;36mpandas._libs.index.IndexEngine.get_loc\u001b[1;34m()\u001b[0m\n",
      "\u001b[1;32mpandas\\_libs\\index.pyx\u001b[0m in \u001b[0;36mpandas._libs.index.IndexEngine.get_loc\u001b[1;34m()\u001b[0m\n",
      "\u001b[1;32mpandas\\_libs\\index_class_helper.pxi\u001b[0m in \u001b[0;36mpandas._libs.index.Int64Engine._check_type\u001b[1;34m()\u001b[0m\n",
      "\u001b[1;31mKeyError\u001b[0m: 'sentiment'",
      "\nDuring handling of the above exception, another exception occurred:\n",
      "\u001b[1;31mKeyError\u001b[0m                                  Traceback (most recent call last)",
      "\u001b[1;32m<ipython-input-70-ce7d520b169f>\u001b[0m in \u001b[0;36m<module>\u001b[1;34m\u001b[0m\n\u001b[0;32m      1\u001b[0m \u001b[0mtarget2\u001b[0m \u001b[1;33m=\u001b[0m \u001b[1;33m[\u001b[0m\u001b[1;33m]\u001b[0m \u001b[1;31m# initialize list\u001b[0m\u001b[1;33m\u001b[0m\u001b[1;33m\u001b[0m\u001b[0m\n\u001b[0;32m      2\u001b[0m \u001b[1;32mfor\u001b[0m \u001b[0mi\u001b[0m \u001b[1;32min\u001b[0m \u001b[0mrange\u001b[0m\u001b[1;33m(\u001b[0m\u001b[1;36m0\u001b[0m\u001b[1;33m,\u001b[0m\u001b[0mlimit\u001b[0m\u001b[1;33m)\u001b[0m\u001b[1;33m:\u001b[0m \u001b[1;31m# batch process 1.6 million tweets\u001b[0m\u001b[1;33m\u001b[0m\u001b[1;33m\u001b[0m\u001b[0m\n\u001b[1;32m----> 3\u001b[1;33m     \u001b[0mtarget2\u001b[0m\u001b[1;33m.\u001b[0m\u001b[0mappend\u001b[0m\u001b[1;33m(\u001b[0m\u001b[0mdf\u001b[0m\u001b[1;33m[\u001b[0m\u001b[1;34m'sentiment'\u001b[0m\u001b[1;33m]\u001b[0m\u001b[1;33m[\u001b[0m\u001b[0mi\u001b[0m\u001b[1;33m]\u001b[0m\u001b[1;33m)\u001b[0m\u001b[1;33m\u001b[0m\u001b[1;33m\u001b[0m\u001b[0m\n\u001b[0m\u001b[0;32m      4\u001b[0m \u001b[0mclean_df\u001b[0m\u001b[1;33m[\u001b[0m\u001b[1;34m'target'\u001b[0m\u001b[1;33m]\u001b[0m\u001b[1;33m=\u001b[0m\u001b[0mtarget2\u001b[0m\u001b[1;33m\u001b[0m\u001b[1;33m\u001b[0m\u001b[0m\n\u001b[0;32m      5\u001b[0m \u001b[0mdf\u001b[0m\u001b[1;33m.\u001b[0m\u001b[0mhead\u001b[0m\u001b[1;33m(\u001b[0m\u001b[1;36m10000\u001b[0m\u001b[1;33m)\u001b[0m\u001b[1;33m\u001b[0m\u001b[1;33m\u001b[0m\u001b[0m\n",
      "\u001b[1;32mD:\\Users\\user\\anaconda3\\lib\\site-packages\\pandas\\core\\frame.py\u001b[0m in \u001b[0;36m__getitem__\u001b[1;34m(self, key)\u001b[0m\n\u001b[0;32m   2798\u001b[0m             \u001b[1;32mif\u001b[0m \u001b[0mself\u001b[0m\u001b[1;33m.\u001b[0m\u001b[0mcolumns\u001b[0m\u001b[1;33m.\u001b[0m\u001b[0mnlevels\u001b[0m \u001b[1;33m>\u001b[0m \u001b[1;36m1\u001b[0m\u001b[1;33m:\u001b[0m\u001b[1;33m\u001b[0m\u001b[1;33m\u001b[0m\u001b[0m\n\u001b[0;32m   2799\u001b[0m                 \u001b[1;32mreturn\u001b[0m \u001b[0mself\u001b[0m\u001b[1;33m.\u001b[0m\u001b[0m_getitem_multilevel\u001b[0m\u001b[1;33m(\u001b[0m\u001b[0mkey\u001b[0m\u001b[1;33m)\u001b[0m\u001b[1;33m\u001b[0m\u001b[1;33m\u001b[0m\u001b[0m\n\u001b[1;32m-> 2800\u001b[1;33m             \u001b[0mindexer\u001b[0m \u001b[1;33m=\u001b[0m \u001b[0mself\u001b[0m\u001b[1;33m.\u001b[0m\u001b[0mcolumns\u001b[0m\u001b[1;33m.\u001b[0m\u001b[0mget_loc\u001b[0m\u001b[1;33m(\u001b[0m\u001b[0mkey\u001b[0m\u001b[1;33m)\u001b[0m\u001b[1;33m\u001b[0m\u001b[1;33m\u001b[0m\u001b[0m\n\u001b[0m\u001b[0;32m   2801\u001b[0m             \u001b[1;32mif\u001b[0m \u001b[0mis_integer\u001b[0m\u001b[1;33m(\u001b[0m\u001b[0mindexer\u001b[0m\u001b[1;33m)\u001b[0m\u001b[1;33m:\u001b[0m\u001b[1;33m\u001b[0m\u001b[1;33m\u001b[0m\u001b[0m\n\u001b[0;32m   2802\u001b[0m                 \u001b[0mindexer\u001b[0m \u001b[1;33m=\u001b[0m \u001b[1;33m[\u001b[0m\u001b[0mindexer\u001b[0m\u001b[1;33m]\u001b[0m\u001b[1;33m\u001b[0m\u001b[1;33m\u001b[0m\u001b[0m\n",
      "\u001b[1;32mD:\\Users\\user\\anaconda3\\lib\\site-packages\\pandas\\core\\indexes\\range.py\u001b[0m in \u001b[0;36mget_loc\u001b[1;34m(self, key, method, tolerance)\u001b[0m\n\u001b[0;32m    351\u001b[0m             \u001b[1;32mexcept\u001b[0m \u001b[0mValueError\u001b[0m\u001b[1;33m:\u001b[0m\u001b[1;33m\u001b[0m\u001b[1;33m\u001b[0m\u001b[0m\n\u001b[0;32m    352\u001b[0m                 \u001b[1;32mraise\u001b[0m \u001b[0mKeyError\u001b[0m\u001b[1;33m(\u001b[0m\u001b[0mkey\u001b[0m\u001b[1;33m)\u001b[0m\u001b[1;33m\u001b[0m\u001b[1;33m\u001b[0m\u001b[0m\n\u001b[1;32m--> 353\u001b[1;33m         \u001b[1;32mreturn\u001b[0m \u001b[0msuper\u001b[0m\u001b[1;33m(\u001b[0m\u001b[1;33m)\u001b[0m\u001b[1;33m.\u001b[0m\u001b[0mget_loc\u001b[0m\u001b[1;33m(\u001b[0m\u001b[0mkey\u001b[0m\u001b[1;33m,\u001b[0m \u001b[0mmethod\u001b[0m\u001b[1;33m=\u001b[0m\u001b[0mmethod\u001b[0m\u001b[1;33m,\u001b[0m \u001b[0mtolerance\u001b[0m\u001b[1;33m=\u001b[0m\u001b[0mtolerance\u001b[0m\u001b[1;33m)\u001b[0m\u001b[1;33m\u001b[0m\u001b[1;33m\u001b[0m\u001b[0m\n\u001b[0m\u001b[0;32m    354\u001b[0m \u001b[1;33m\u001b[0m\u001b[0m\n\u001b[0;32m    355\u001b[0m     \u001b[1;33m@\u001b[0m\u001b[0mAppender\u001b[0m\u001b[1;33m(\u001b[0m\u001b[0m_index_shared_docs\u001b[0m\u001b[1;33m[\u001b[0m\u001b[1;34m\"get_indexer\"\u001b[0m\u001b[1;33m]\u001b[0m\u001b[1;33m)\u001b[0m\u001b[1;33m\u001b[0m\u001b[1;33m\u001b[0m\u001b[0m\n",
      "\u001b[1;32mD:\\Users\\user\\anaconda3\\lib\\site-packages\\pandas\\core\\indexes\\base.py\u001b[0m in \u001b[0;36mget_loc\u001b[1;34m(self, key, method, tolerance)\u001b[0m\n\u001b[0;32m   2646\u001b[0m                 \u001b[1;32mreturn\u001b[0m \u001b[0mself\u001b[0m\u001b[1;33m.\u001b[0m\u001b[0m_engine\u001b[0m\u001b[1;33m.\u001b[0m\u001b[0mget_loc\u001b[0m\u001b[1;33m(\u001b[0m\u001b[0mkey\u001b[0m\u001b[1;33m)\u001b[0m\u001b[1;33m\u001b[0m\u001b[1;33m\u001b[0m\u001b[0m\n\u001b[0;32m   2647\u001b[0m             \u001b[1;32mexcept\u001b[0m \u001b[0mKeyError\u001b[0m\u001b[1;33m:\u001b[0m\u001b[1;33m\u001b[0m\u001b[1;33m\u001b[0m\u001b[0m\n\u001b[1;32m-> 2648\u001b[1;33m                 \u001b[1;32mreturn\u001b[0m \u001b[0mself\u001b[0m\u001b[1;33m.\u001b[0m\u001b[0m_engine\u001b[0m\u001b[1;33m.\u001b[0m\u001b[0mget_loc\u001b[0m\u001b[1;33m(\u001b[0m\u001b[0mself\u001b[0m\u001b[1;33m.\u001b[0m\u001b[0m_maybe_cast_indexer\u001b[0m\u001b[1;33m(\u001b[0m\u001b[0mkey\u001b[0m\u001b[1;33m)\u001b[0m\u001b[1;33m)\u001b[0m\u001b[1;33m\u001b[0m\u001b[1;33m\u001b[0m\u001b[0m\n\u001b[0m\u001b[0;32m   2649\u001b[0m         \u001b[0mindexer\u001b[0m \u001b[1;33m=\u001b[0m \u001b[0mself\u001b[0m\u001b[1;33m.\u001b[0m\u001b[0mget_indexer\u001b[0m\u001b[1;33m(\u001b[0m\u001b[1;33m[\u001b[0m\u001b[0mkey\u001b[0m\u001b[1;33m]\u001b[0m\u001b[1;33m,\u001b[0m \u001b[0mmethod\u001b[0m\u001b[1;33m=\u001b[0m\u001b[0mmethod\u001b[0m\u001b[1;33m,\u001b[0m \u001b[0mtolerance\u001b[0m\u001b[1;33m=\u001b[0m\u001b[0mtolerance\u001b[0m\u001b[1;33m)\u001b[0m\u001b[1;33m\u001b[0m\u001b[1;33m\u001b[0m\u001b[0m\n\u001b[0;32m   2650\u001b[0m         \u001b[1;32mif\u001b[0m \u001b[0mindexer\u001b[0m\u001b[1;33m.\u001b[0m\u001b[0mndim\u001b[0m \u001b[1;33m>\u001b[0m \u001b[1;36m1\u001b[0m \u001b[1;32mor\u001b[0m \u001b[0mindexer\u001b[0m\u001b[1;33m.\u001b[0m\u001b[0msize\u001b[0m \u001b[1;33m>\u001b[0m \u001b[1;36m1\u001b[0m\u001b[1;33m:\u001b[0m\u001b[1;33m\u001b[0m\u001b[1;33m\u001b[0m\u001b[0m\n",
      "\u001b[1;32mpandas\\_libs\\index.pyx\u001b[0m in \u001b[0;36mpandas._libs.index.IndexEngine.get_loc\u001b[1;34m()\u001b[0m\n",
      "\u001b[1;32mpandas\\_libs\\index.pyx\u001b[0m in \u001b[0;36mpandas._libs.index.IndexEngine.get_loc\u001b[1;34m()\u001b[0m\n",
      "\u001b[1;32mpandas\\_libs\\index_class_helper.pxi\u001b[0m in \u001b[0;36mpandas._libs.index.Int64Engine._check_type\u001b[1;34m()\u001b[0m\n",
      "\u001b[1;31mKeyError\u001b[0m: 'sentiment'"
     ]
    }
   ],
   "source": [
    "target2 = [] # initialize list\n",
    "for i in range(0,limit): # batch process 1.6 million tweets \n",
    "    target2.append(df['sentiment'][i])\n",
    "clean_df['target']=target2\n",
    "df.head()"
   ]
  },
  {
   "cell_type": "code",
   "execution_count": 32,
   "metadata": {},
   "outputs": [
    {
     "name": "stdout",
     "output_type": "stream",
     "text": [
      "(50000,)\n",
      "(50000,)\n",
      "{0, 4}\n",
      "dict_values([24909, 25091])\n"
     ]
    }
   ],
   "source": [
    "X = clean_df.text # get all the text in x variable\n",
    "y = clean_df.target # get all the sentiments into y variable\n",
    "print(X.shape) #print shape of x\n",
    "print(y.shape) # print shape of y\n",
    "from collections import Counter\n",
    "print(set(y)) # equals to list(set(words))\n",
    "print(Counter(y).values()) #"
   ]
  },
  {
   "cell_type": "markdown",
   "metadata": {},
   "source": [
    "# perform train and test split"
   ]
  },
  {
   "cell_type": "markdown",
   "metadata": {},
   "source": [
    "X_train is the tweets of training data, X_test is the testing tweets which we have to predict, y_train is the sentiments of tweets in the traing data and y_test is the sentiments of the tweets  which we will use to measure the accuracy of the model"
   ]
  },
  {
   "cell_type": "code",
   "execution_count": 33,
   "metadata": {},
   "outputs": [],
   "source": [
    "from sklearn.model_selection  import train_test_split #from sklearn.cross_validation import train_test_split to split the data into training and tesing set\n",
    "X_train, X_test, y_train, y_test = train_test_split(X, y, test_size = 0.20, random_state= 1) # split the data into traing and testing set where ratio is 80:20"
   ]
  },
  {
   "cell_type": "markdown",
   "metadata": {},
   "source": [
    "#Get Tf-idf object and save it as vect. We can select features from here we just have simply change \n",
    "#the ngram range to change the features also we can remove stop words over here with the help of stop parameter"
   ]
  },
  {
   "cell_type": "code",
   "execution_count": 34,
   "metadata": {},
   "outputs": [],
   "source": [
    "vect = TfidfVectorizer(analyzer = \"word\", ngram_range=(1,3))"
   ]
  },
  {
   "cell_type": "markdown",
   "metadata": {},
   "source": [
    "# fit or training data tweets to vect"
   ]
  },
  {
   "cell_type": "markdown",
   "metadata": {},
   "source": [
    "transform our training data tweets"
   ]
  },
  {
   "cell_type": "code",
   "execution_count": 35,
   "metadata": {},
   "outputs": [],
   "source": [
    "vect.fit(X_train) \n",
    "X_train_dtm = vect.transform(X_train) "
   ]
  },
  {
   "cell_type": "markdown",
   "metadata": {},
   "source": [
    "transform our testing data tweets"
   ]
  },
  {
   "cell_type": "code",
   "execution_count": 36,
   "metadata": {},
   "outputs": [],
   "source": [
    "X_test_dtm = vect.transform(X_test)"
   ]
  },
  {
   "cell_type": "markdown",
   "metadata": {},
   "source": [
    "# Naive Bayes"
   ]
  },
  {
   "cell_type": "code",
   "execution_count": 37,
   "metadata": {},
   "outputs": [],
   "source": [
    "from sklearn.naive_bayes import MultinomialNB # import Multinomial Naive Bayes model from sklearn.naive_bayes\n",
    "nb = MultinomialNB(alpha = 10) # get object of Multinomial naive bayes model with alpha parameter = 10"
   ]
  },
  {
   "cell_type": "code",
   "execution_count": 38,
   "metadata": {},
   "outputs": [
    {
     "data": {
      "text/plain": [
       "MultinomialNB(alpha=10, class_prior=None, fit_prior=True)"
      ]
     },
     "execution_count": 38,
     "metadata": {},
     "output_type": "execute_result"
    }
   ],
   "source": [
    "nb.fit(X_train_dtm, y_train)# fit our both training data tweets as well as their sentiments to the multinomial naive bayes model"
   ]
  },
  {
   "cell_type": "code",
   "execution_count": 39,
   "metadata": {},
   "outputs": [
    {
     "data": {
      "text/plain": [
       "0.7658499999999999"
      ]
     },
     "execution_count": 39,
     "metadata": {},
     "output_type": "execute_result"
    }
   ],
   "source": [
    "from sklearn.model_selection import cross_val_score  # import cross_val_score from sklear.model_selection\n",
    "accuracies = cross_val_score(estimator = nb, X = X_train_dtm, y = y_train, cv = 10) # do K- fold cross validation on our traing data and its sentimenst with 10 fold cross validation\n",
    "accuracies.mean() # measure the mean accuray of 10 fold cross validation"
   ]
  },
  {
   "cell_type": "markdown",
   "metadata": {},
   "source": [
    "predict the sentiments of testing data tweets"
   ]
  },
  {
   "cell_type": "code",
   "execution_count": 40,
   "metadata": {},
   "outputs": [],
   "source": [
    "y_pred_nb = nb.predict(X_test_dtm) "
   ]
  },
  {
   "cell_type": "markdown",
   "metadata": {},
   "source": [
    "measure the accuracy of our model on the testing data"
   ]
  },
  {
   "cell_type": "code",
   "execution_count": 41,
   "metadata": {},
   "outputs": [
    {
     "data": {
      "text/plain": [
       "0.7686"
      ]
     },
     "execution_count": 41,
     "metadata": {},
     "output_type": "execute_result"
    }
   ],
   "source": [
    "from sklearn import metrics # import metrics from sklearn\n",
    "metrics.accuracy_score(y_test, y_pred_nb) "
   ]
  },
  {
   "cell_type": "markdown",
   "metadata": {},
   "source": [
    "plot the confusion matrix between our predicted sentiments and the original testing data sentiments"
   ]
  },
  {
   "cell_type": "code",
   "execution_count": 42,
   "metadata": {},
   "outputs": [
    {
     "data": {
      "text/plain": [
       "array([[4196,  878],\n",
       "       [1436, 3490]], dtype=int64)"
      ]
     },
     "execution_count": 42,
     "metadata": {},
     "output_type": "execute_result"
    }
   ],
   "source": [
    "from sklearn.metrics import confusion_matrix # import confusion matrix from the sklearn.metrics\n",
    "confusion_matrix(y_test, y_pred_nb) "
   ]
  },
  {
   "cell_type": "code",
   "execution_count": null,
   "metadata": {},
   "outputs": [],
   "source": [
    "from scipy.stats import ttest_1samp\n",
    "import numpy as np\n",
    "import pandas as pd\n",
    "sen_avg ={'sentiment'}\n",
    "\"\"\"\"\n",
    "ages = np.genfromtxt(“TwitterSentimentAnalysis.csv”)\n",
    "print(ages)\n",
    "ages_mean = np.mean(ages)\n",
    "print(ages_mean)\n",
    "tset, pval = ttest_1samp(ages, 30)\n",
    "print(“p-values”,pval)\n",
    "if pval < 0.05:    # alpha value is 0.05 or 5%\n",
    "   print(\" we are rejecting null hypothesis\")\n",
    "else:\n",
    "  print(\"we are accepting null hypothesis\")\"\"\""
   ]
  },
  {
   "cell_type": "markdown",
   "metadata": {},
   "source": [
    "# Logistic regression"
   ]
  },
  {
   "cell_type": "code",
   "execution_count": 43,
   "metadata": {},
   "outputs": [],
   "source": [
    "from sklearn.linear_model import LogisticRegression # import Logistic Regression model from sklearn.linear_model\n",
    "logisticRegr = LogisticRegression(C = 1.1) # get object of logistic regression model with cost parameter = 1.1"
   ]
  },
  {
   "cell_type": "code",
   "execution_count": 44,
   "metadata": {},
   "outputs": [
    {
     "data": {
      "text/plain": [
       "LogisticRegression(C=1.1, class_weight=None, dual=False, fit_intercept=True,\n",
       "                   intercept_scaling=1, l1_ratio=None, max_iter=100,\n",
       "                   multi_class='auto', n_jobs=None, penalty='l2',\n",
       "                   random_state=None, solver='lbfgs', tol=0.0001, verbose=0,\n",
       "                   warm_start=False)"
      ]
     },
     "execution_count": 44,
     "metadata": {},
     "output_type": "execute_result"
    }
   ],
   "source": [
    "logisticRegr.fit(X_train_dtm, y_train)# fit our both traing data tweets as well as its sentiments to the logistic regression model"
   ]
  },
  {
   "cell_type": "code",
   "execution_count": 45,
   "metadata": {},
   "outputs": [
    {
     "data": {
      "text/plain": [
       "0.7724499999999999"
      ]
     },
     "execution_count": 45,
     "metadata": {},
     "output_type": "execute_result"
    }
   ],
   "source": [
    "from sklearn.model_selection import cross_val_score # import cross_val_score from sklear.model_selection\n",
    "accuracies = cross_val_score(estimator = logisticRegr, X = X_train_dtm, y = y_train, cv = 10) # do K- fold cross validation on our traing data and its sentimenst with 10 fold cross validation\n",
    "accuracies.mean() # measure the mean accuray of 10 fold cross validation"
   ]
  },
  {
   "cell_type": "code",
   "execution_count": 46,
   "metadata": {},
   "outputs": [],
   "source": [
    "y_pred_lg = logisticRegr.predict(X_test_dtm)  # predict the sentiments of testing data tweets"
   ]
  },
  {
   "cell_type": "code",
   "execution_count": 47,
   "metadata": {},
   "outputs": [
    {
     "data": {
      "text/plain": [
       "0.7773"
      ]
     },
     "execution_count": 47,
     "metadata": {},
     "output_type": "execute_result"
    }
   ],
   "source": [
    "from sklearn import metrics # import metrics from sklearn\n",
    "metrics.accuracy_score(y_test, y_pred_lg) # measure the accuracy of our model on the testing data"
   ]
  },
  {
   "cell_type": "code",
   "execution_count": 48,
   "metadata": {},
   "outputs": [
    {
     "data": {
      "text/plain": [
       "array([[4085,  989],\n",
       "       [1238, 3688]], dtype=int64)"
      ]
     },
     "execution_count": 48,
     "metadata": {},
     "output_type": "execute_result"
    }
   ],
   "source": [
    "from sklearn.metrics import confusion_matrix # import confusion matrix from the sklearn.metrics\n",
    "confusion_matrix(y_test, y_pred_lg) # plot the confusion matrix between our predicted sentiments and the original testing data sentiments"
   ]
  },
  {
   "cell_type": "markdown",
   "metadata": {},
   "source": [
    "# SVC"
   ]
  },
  {
   "cell_type": "code",
   "execution_count": 49,
   "metadata": {},
   "outputs": [],
   "source": [
    "from sklearn.svm import LinearSVC # import SVC model from sklearn.svm\n",
    "svm_clf = LinearSVC(random_state=0) # get object of SVC model with random_state parameter = 0"
   ]
  },
  {
   "cell_type": "code",
   "execution_count": 50,
   "metadata": {},
   "outputs": [
    {
     "data": {
      "text/plain": [
       "LinearSVC(C=1.0, class_weight=None, dual=True, fit_intercept=True,\n",
       "          intercept_scaling=1, loss='squared_hinge', max_iter=1000,\n",
       "          multi_class='ovr', penalty='l2', random_state=0, tol=0.0001,\n",
       "          verbose=0)"
      ]
     },
     "execution_count": 50,
     "metadata": {},
     "output_type": "execute_result"
    }
   ],
   "source": [
    "svm_clf.fit(X_train_dtm, y_train)# fit our both traing data tweets as well as its sentiments to the SVC model"
   ]
  },
  {
   "cell_type": "code",
   "execution_count": 51,
   "metadata": {},
   "outputs": [
    {
     "data": {
      "text/plain": [
       "0.7800749999999999"
      ]
     },
     "execution_count": 51,
     "metadata": {},
     "output_type": "execute_result"
    }
   ],
   "source": [
    "from sklearn.model_selection import cross_val_score  # import cross_val_score from sklear.model_selection\n",
    "accuracies = cross_val_score(estimator = svm_clf, X = X_train_dtm, y = y_train, cv = 10)# do K- fold cross validation on our traing data and its sentimenst with 10 fold cross validation\n",
    "accuracies.mean() # measure the mean accuray of 10 fold cross validation"
   ]
  },
  {
   "cell_type": "code",
   "execution_count": 52,
   "metadata": {},
   "outputs": [],
   "source": [
    "y_pred_svm = svm_clf.predict(X_test_dtm)  # predict the sentiments of testing data tweets"
   ]
  },
  {
   "cell_type": "code",
   "execution_count": 53,
   "metadata": {},
   "outputs": [
    {
     "data": {
      "text/plain": [
       "0.7839"
      ]
     },
     "execution_count": 53,
     "metadata": {},
     "output_type": "execute_result"
    }
   ],
   "source": [
    "from sklearn import metrics  # import metrics from sklearn\n",
    "metrics.accuracy_score(y_test, y_pred_svm)  # measure the accuracy of our model on the testing data"
   ]
  },
  {
   "cell_type": "code",
   "execution_count": 54,
   "metadata": {},
   "outputs": [
    {
     "data": {
      "text/plain": [
       "array([[4103,  971],\n",
       "       [1190, 3736]], dtype=int64)"
      ]
     },
     "execution_count": 54,
     "metadata": {},
     "output_type": "execute_result"
    }
   ],
   "source": [
    "from sklearn.metrics import confusion_matrix # import confusion matrix from the sklearn.metrics\n",
    "confusion_matrix(y_test, y_pred_svm)# plot the confusion matrix between our predicted sentiments and the original testing data sentiments"
   ]
  },
  {
   "cell_type": "markdown",
   "metadata": {},
   "source": [
    "# Decision Trees"
   ]
  },
  {
   "cell_type": "code",
   "execution_count": 55,
   "metadata": {},
   "outputs": [],
   "source": [
    "from sklearn.tree import DecisionTreeClassifier\n",
    "clf_dtc = DecisionTreeClassifier(random_state = 100, max_depth=3, min_samples_leaf=5) "
   ]
  },
  {
   "cell_type": "code",
   "execution_count": 56,
   "metadata": {},
   "outputs": [
    {
     "data": {
      "text/plain": [
       "DecisionTreeClassifier(ccp_alpha=0.0, class_weight=None, criterion='gini',\n",
       "                       max_depth=3, max_features=None, max_leaf_nodes=None,\n",
       "                       min_impurity_decrease=0.0, min_impurity_split=None,\n",
       "                       min_samples_leaf=5, min_samples_split=2,\n",
       "                       min_weight_fraction_leaf=0.0, presort='deprecated',\n",
       "                       random_state=100, splitter='best')"
      ]
     },
     "execution_count": 56,
     "metadata": {},
     "output_type": "execute_result"
    }
   ],
   "source": [
    "clf_dtc.fit(X_train_dtm, y_train) "
   ]
  },
  {
   "cell_type": "code",
   "execution_count": null,
   "metadata": {},
   "outputs": [],
   "source": [
    "from sklearn.model_selection import cross_val_score \n",
    "accuracies = cross_val_score(estimator = clf_dtc, X = X_train_dtm, y = y_train, cv = 10)\n",
    "accuracies.mean()"
   ]
  },
  {
   "cell_type": "code",
   "execution_count": null,
   "metadata": {},
   "outputs": [],
   "source": [
    "y_pred_dtc = clf_dtc.predict(X_test_dtm)"
   ]
  },
  {
   "cell_type": "code",
   "execution_count": null,
   "metadata": {},
   "outputs": [],
   "source": [
    "from sklearn import metrics\n",
    "metrics.accuracy_score(y_test, y_pred_dtc) "
   ]
  },
  {
   "cell_type": "code",
   "execution_count": 159,
   "metadata": {},
   "outputs": [
    {
     "data": {
      "text/plain": [
       "array([[1194, 3868],\n",
       "       [ 469, 4469]])"
      ]
     },
     "execution_count": 159,
     "metadata": {},
     "output_type": "execute_result"
    }
   ],
   "source": [
    "from sklearn.metrics import confusion_matrix\n",
    "confusion_matrix(y_test, y_pred_dtc)"
   ]
  },
  {
   "cell_type": "markdown",
   "metadata": {},
   "source": [
    "# Boosted Trees"
   ]
  },
  {
   "cell_type": "code",
   "execution_count": null,
   "metadata": {},
   "outputs": [],
   "source": [
    "from sklearn.ensemble import AdaBoostClassifier\n",
    "clf_boost = AdaBoostClassifier(n_estimators=100, base_estimator=None,learning_rate=1)"
   ]
  },
  {
   "cell_type": "code",
   "execution_count": 161,
   "metadata": {},
   "outputs": [],
   "source": [
    "clf_boost.fit(X_train_dtm, y_train) "
   ]
  },
  {
   "cell_type": "code",
   "execution_count": 162,
   "metadata": {},
   "outputs": [
    {
     "data": {
      "text/plain": [
       "0.7161248358468647"
      ]
     },
     "execution_count": 162,
     "metadata": {},
     "output_type": "execute_result"
    }
   ],
   "source": [
    "from sklearn.model_selection import cross_val_score \n",
    "accuracies = cross_val_score(estimator = clf_boost, X = X_train_dtm, y = y_train, cv = 10)\n",
    "accuracies.mean()"
   ]
  },
  {
   "cell_type": "code",
   "execution_count": 163,
   "metadata": {},
   "outputs": [],
   "source": [
    "y_pred_boost = clf_boost.predict(X_test_dtm)"
   ]
  },
  {
   "cell_type": "code",
   "execution_count": 164,
   "metadata": {},
   "outputs": [
    {
     "data": {
      "text/plain": [
       "0.7284"
      ]
     },
     "execution_count": 164,
     "metadata": {},
     "output_type": "execute_result"
    }
   ],
   "source": [
    "from sklearn import metrics\n",
    "metrics.accuracy_score(y_test, y_pred_boost) "
   ]
  },
  {
   "cell_type": "code",
   "execution_count": 165,
   "metadata": {},
   "outputs": [
    {
     "data": {
      "text/plain": [
       "array([[3403, 1659],\n",
       "       [1057, 3881]])"
      ]
     },
     "execution_count": 165,
     "metadata": {},
     "output_type": "execute_result"
    }
   ],
   "source": [
    "from sklearn.metrics import confusion_matrix\n",
    "confusion_matrix(y_test, y_pred_boost)"
   ]
  },
  {
   "cell_type": "markdown",
   "metadata": {},
   "source": [
    "# Random Forest"
   ]
  },
  {
   "cell_type": "code",
   "execution_count": 166,
   "metadata": {},
   "outputs": [],
   "source": [
    "from sklearn.ensemble import RandomForestClassifier\n",
    "clf_rf = RandomForestClassifier(n_estimators = 100, random_state = 42)"
   ]
  },
  {
   "cell_type": "code",
   "execution_count": 167,
   "metadata": {},
   "outputs": [
    {
     "data": {
      "text/plain": [
       "RandomForestClassifier(bootstrap=True, class_weight=None, criterion='gini',\n",
       "            max_depth=None, max_features='auto', max_leaf_nodes=None,\n",
       "            min_impurity_decrease=0.0, min_impurity_split=None,\n",
       "            min_samples_leaf=1, min_samples_split=2,\n",
       "            min_weight_fraction_leaf=0.0, n_estimators=100, n_jobs=None,\n",
       "            oob_score=False, random_state=42, verbose=0, warm_start=False)"
      ]
     },
     "execution_count": 167,
     "metadata": {},
     "output_type": "execute_result"
    }
   ],
   "source": [
    "clf_rf.fit(X_train_dtm, y_train) "
   ]
  },
  {
   "cell_type": "code",
   "execution_count": 168,
   "metadata": {},
   "outputs": [
    {
     "data": {
      "text/plain": [
       "0.7609249755187484"
      ]
     },
     "execution_count": 168,
     "metadata": {},
     "output_type": "execute_result"
    }
   ],
   "source": [
    "from sklearn.model_selection import cross_val_score \n",
    "accuracies = cross_val_score(estimator = clf_rf, X = X_train_dtm, y = y_train, cv = 10)\n",
    "accuracies.mean()"
   ]
  },
  {
   "cell_type": "code",
   "execution_count": 169,
   "metadata": {},
   "outputs": [],
   "source": [
    "y_pred_rf = clf_rf.predict(X_test_dtm)"
   ]
  },
  {
   "cell_type": "code",
   "execution_count": 170,
   "metadata": {},
   "outputs": [
    {
     "data": {
      "text/plain": [
       "0.7637"
      ]
     },
     "execution_count": 170,
     "metadata": {},
     "output_type": "execute_result"
    }
   ],
   "source": [
    "from sklearn import metrics\n",
    "metrics.accuracy_score(y_test, y_pred_rf)"
   ]
  },
  {
   "cell_type": "code",
   "execution_count": 171,
   "metadata": {},
   "outputs": [
    {
     "data": {
      "text/plain": [
       "array([[3814, 1248],\n",
       "       [1115, 3823]])"
      ]
     },
     "execution_count": 171,
     "metadata": {},
     "output_type": "execute_result"
    }
   ],
   "source": [
    "from sklearn.metrics import confusion_matrix\n",
    "confusion_matrix(y_test, y_pred_rf)"
   ]
  },
  {
   "cell_type": "markdown",
   "metadata": {},
   "source": [
    "# Nearest Neighbour"
   ]
  },
  {
   "cell_type": "code",
   "execution_count": 172,
   "metadata": {},
   "outputs": [],
   "source": [
    "from sklearn.neighbors import KNeighborsClassifier  \n",
    "clf_knn = KNeighborsClassifier(n_neighbors=5)"
   ]
  },
  {
   "cell_type": "code",
   "execution_count": 173,
   "metadata": {},
   "outputs": [
    {
     "data": {
      "text/plain": [
       "KNeighborsClassifier(algorithm='auto', leaf_size=30, metric='minkowski',\n",
       "           metric_params=None, n_jobs=None, n_neighbors=5, p=2,\n",
       "           weights='uniform')"
      ]
     },
     "execution_count": 173,
     "metadata": {},
     "output_type": "execute_result"
    }
   ],
   "source": [
    "clf_knn.fit(X_train_dtm, y_train) "
   ]
  },
  {
   "cell_type": "code",
   "execution_count": 174,
   "metadata": {},
   "outputs": [
    {
     "data": {
      "text/plain": [
       "0.5163256757812923"
      ]
     },
     "execution_count": 174,
     "metadata": {},
     "output_type": "execute_result"
    }
   ],
   "source": [
    "from sklearn.model_selection import cross_val_score \n",
    "accuracies = cross_val_score(estimator = clf_knn, X = X_train_dtm, y = y_train, cv = 10)\n",
    "accuracies.mean()"
   ]
  },
  {
   "cell_type": "code",
   "execution_count": 175,
   "metadata": {},
   "outputs": [],
   "source": [
    "y_pred_knn = clf_knn.predict(X_test_dtm)"
   ]
  },
  {
   "cell_type": "code",
   "execution_count": 176,
   "metadata": {},
   "outputs": [
    {
     "data": {
      "text/plain": [
       "0.5347"
      ]
     },
     "execution_count": 176,
     "metadata": {},
     "output_type": "execute_result"
    }
   ],
   "source": [
    "from sklearn import metrics\n",
    "metrics.accuracy_score(y_test, y_pred_knn) "
   ]
  },
  {
   "cell_type": "code",
   "execution_count": 177,
   "metadata": {},
   "outputs": [
    {
     "data": {
      "text/plain": [
       "array([[2462, 2600],\n",
       "       [2053, 2885]])"
      ]
     },
     "execution_count": 177,
     "metadata": {},
     "output_type": "execute_result"
    }
   ],
   "source": [
    "from sklearn.metrics import confusion_matrix\n",
    "confusion_matrix(y_test, y_pred_knn)"
   ]
  },
  {
   "cell_type": "code",
   "execution_count": null,
   "metadata": {},
   "outputs": [],
   "source": []
  }
 ],
 "metadata": {
  "kernelspec": {
   "display_name": "Python 3",
   "language": "python",
   "name": "python3"
  },
  "language_info": {
   "codemirror_mode": {
    "name": "ipython",
    "version": 3
   },
   "file_extension": ".py",
   "mimetype": "text/x-python",
   "name": "python",
   "nbconvert_exporter": "python",
   "pygments_lexer": "ipython3",
   "version": "3.7.6"
  }
 },
 "nbformat": 4,
 "nbformat_minor": 2
}
